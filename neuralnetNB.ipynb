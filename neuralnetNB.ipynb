{
 "cells": [
  {
   "cell_type": "code",
   "execution_count": 1,
   "metadata": {
    "_cell_guid": "b1076dfc-b9ad-4769-8c92-a6c4dae69d19",
    "_uuid": "8f2839f25d086af736a60e9eeb907d3b93b6e0e5",
    "execution": {
     "iopub.execute_input": "2025-01-23T17:34:46.650758Z",
     "iopub.status.busy": "2025-01-23T17:34:46.650460Z",
     "iopub.status.idle": "2025-01-23T17:34:50.825702Z",
     "shell.execute_reply": "2025-01-23T17:34:50.824056Z",
     "shell.execute_reply.started": "2025-01-23T17:34:46.650727Z"
    },
    "trusted": true
   },
   "outputs": [],
   "source": [
    "import pandas as pd\n",
    "import numpy as np\n",
    "import matplotlib.pyplot as plt\n",
    "import seaborn as sns\n",
    "from sklearn.model_selection import train_test_split, cross_val_score\n",
    "from sklearn.ensemble import RandomForestClassifier\n",
    "from sklearn.metrics import roc_auc_score, classification_report, roc_curve\n"
   ]
  },
  {
   "cell_type": "code",
   "execution_count": 2,
   "metadata": {
    "execution": {
     "iopub.execute_input": "2025-01-23T17:34:55.877860Z",
     "iopub.status.busy": "2025-01-23T17:34:55.877375Z",
     "iopub.status.idle": "2025-01-23T17:34:55.914679Z",
     "shell.execute_reply": "2025-01-23T17:34:55.913326Z",
     "shell.execute_reply.started": "2025-01-23T17:34:55.877797Z"
    },
    "trusted": true
   },
   "outputs": [],
   "source": [
    "train_df = pd.read_csv('/kaggle/input/neural-net-nexus/train.csv')  \n",
    "test_df = pd.read_csv('/kaggle/input/neural-net-nexus/test.csv')\n",
    "sample_submission = pd.read_csv('/kaggle/input/neural-net-nexus/sample_submission.csv')"
   ]
  },
  {
   "cell_type": "code",
   "execution_count": 3,
   "metadata": {
    "execution": {
     "iopub.execute_input": "2025-01-23T17:35:00.106562Z",
     "iopub.status.busy": "2025-01-23T17:35:00.106199Z",
     "iopub.status.idle": "2025-01-23T17:35:00.157180Z",
     "shell.execute_reply": "2025-01-23T17:35:00.156042Z",
     "shell.execute_reply.started": "2025-01-23T17:35:00.106530Z"
    },
    "trusted": true
   },
   "outputs": [
    {
     "name": "stdout",
     "output_type": "stream",
     "text": [
      "    Age  HB (gm/dl)  ESR(mm)  WBC(TC) (/cumm)  Neutrophils (%)  \\\n",
      "0  14.0        11.4     28.0           4200.0               57   \n",
      "1  26.0        12.2     43.0           4700.0               77   \n",
      "2  42.0        14.9    103.0          19800.0               82   \n",
      "3  35.0        13.9     12.0           9700.0               88   \n",
      "4   8.0        10.0     28.0          10600.0               46   \n",
      "\n",
      "   lymphocytes (%)  Monocytes (%)  Eosinophils (%)  Cir Eosinophils (/cumm)  \\\n",
      "0               36            5.0              2.0                     84.0   \n",
      "1               19            3.0              1.0                     47.0   \n",
      "2               15            2.0              1.0                    198.0   \n",
      "3               10            1.0              1.0                     97.0   \n",
      "4               42            2.0             10.0                   1060.0   \n",
      "\n",
      "   RBC (m/ul)  ...  Platelete(PC)(/cumm)  MPV (fl)  PCT (%)  \\\n",
      "0        4.64  ...              167000.0      10.3     0.07   \n",
      "1        4.24  ...              277000.0       8.5     0.24   \n",
      "2        5.31  ...              215000.0       9.1     0.20   \n",
      "3        5.49  ...              282000.0       8.7     0.25   \n",
      "4        3.99  ...              337000.0       7.6     0.26   \n",
      "\n",
      "   Class Identification  Unnamed: 20  Unnamed: 21  Unnamed: 22  Unnamed: 23  \\\n",
      "0              Negative          NaN          NaN          NaN          NaN   \n",
      "1              Positive          NaN          NaN          NaN          NaN   \n",
      "2              Negative          NaN          NaN          NaN          NaN   \n",
      "3              Negative          NaN          NaN          NaN          NaN   \n",
      "4              Negative          NaN          NaN          NaN          NaN   \n",
      "\n",
      "   Unnamed: 24 Unnamed: 25  \n",
      "0          NaN         NaN  \n",
      "1          NaN         NaN  \n",
      "2          NaN         NaN  \n",
      "3          NaN         NaN  \n",
      "4          NaN         NaN  \n",
      "\n",
      "[5 rows x 26 columns]\n",
      "    Age  HB (gm/dl)  ESR(mm)  WBC(TC) (/cumm)  Neutrophils (%)  \\\n",
      "0  60.0        11.4     34.0             6900               55   \n",
      "1  55.0        12.5     59.0            13100               53   \n",
      "2  14.0        11.4     41.0            10900               45   \n",
      "3  28.0         9.7     68.0             8400               59   \n",
      "4  60.0        10.6     50.0             5800               62   \n",
      "\n",
      "   lymphocytes (%)  Monocytes (%)  Eosinophils (%)  Cir Eosinophils (/cumm)  \\\n",
      "0               38              4                3                      207   \n",
      "1               41              2                4                      524   \n",
      "2               46              1                8                      872   \n",
      "3               36              4                1                       84   \n",
      "4               33              4                1                       58   \n",
      "\n",
      "   RBC (m/ul)  HTC/PCV (%)  MCV (fl)  MCH (pg)  MCHC (g/dl)  RDW  (%)  \\\n",
      "0        4.00         38.4      96.0      28.5         29.7      14.0   \n",
      "1        4.47         40.0      89.5      28.0         31.3      13.7   \n",
      "2        4.25         37.0      87.1      26.8         30.8      13.2   \n",
      "3        3.88         31.6      81.4      25.0         30.7      13.6   \n",
      "4        4.16         35.7      85.8      25.5         29.7      13.7   \n",
      "\n",
      "   PDW (fl)  Platelete(PC)(/cumm)  MPV (fl)  PCT (%)  \n",
      "0      11.3                352000       7.2     0.26  \n",
      "1      12.3                572000       7.9     0.45  \n",
      "2       NaN                481000       8.1     0.39  \n",
      "3      11.9                228000       8.2     0.19  \n",
      "4      13.9                253000       8.5     0.22  \n",
      "   ID  Prediction\n",
      "0   1           1\n",
      "1   2           0\n",
      "2   5           0\n",
      "3   6           1\n",
      "4   9           1\n"
     ]
    },
    {
     "name": "stderr",
     "output_type": "stream",
     "text": [
      "/usr/local/lib/python3.10/dist-packages/pandas/io/formats/format.py:1458: RuntimeWarning: invalid value encountered in greater\n",
      "  has_large_values = (abs_vals > 1e6).any()\n",
      "/usr/local/lib/python3.10/dist-packages/pandas/io/formats/format.py:1459: RuntimeWarning: invalid value encountered in less\n",
      "  has_small_values = ((abs_vals < 10 ** (-self.digits)) & (abs_vals > 0)).any()\n",
      "/usr/local/lib/python3.10/dist-packages/pandas/io/formats/format.py:1459: RuntimeWarning: invalid value encountered in greater\n",
      "  has_small_values = ((abs_vals < 10 ** (-self.digits)) & (abs_vals > 0)).any()\n",
      "/usr/local/lib/python3.10/dist-packages/pandas/io/formats/format.py:1458: RuntimeWarning: invalid value encountered in greater\n",
      "  has_large_values = (abs_vals > 1e6).any()\n",
      "/usr/local/lib/python3.10/dist-packages/pandas/io/formats/format.py:1459: RuntimeWarning: invalid value encountered in less\n",
      "  has_small_values = ((abs_vals < 10 ** (-self.digits)) & (abs_vals > 0)).any()\n",
      "/usr/local/lib/python3.10/dist-packages/pandas/io/formats/format.py:1459: RuntimeWarning: invalid value encountered in greater\n",
      "  has_small_values = ((abs_vals < 10 ** (-self.digits)) & (abs_vals > 0)).any()\n"
     ]
    }
   ],
   "source": [
    "print(train_df.head())\n",
    "print(test_df.head())\n",
    "print(sample_submission.head())"
   ]
  },
  {
   "cell_type": "code",
   "execution_count": 4,
   "metadata": {
    "execution": {
     "iopub.execute_input": "2025-01-23T17:35:04.787282Z",
     "iopub.status.busy": "2025-01-23T17:35:04.786824Z",
     "iopub.status.idle": "2025-01-23T17:35:04.793902Z",
     "shell.execute_reply": "2025-01-23T17:35:04.792637Z",
     "shell.execute_reply.started": "2025-01-23T17:35:04.787244Z"
    },
    "trusted": true
   },
   "outputs": [],
   "source": [
    "train_df = train_df.drop(columns=[col for col in train_df.columns if \"Unnamed\" in col])"
   ]
  },
  {
   "cell_type": "code",
   "execution_count": 5,
   "metadata": {
    "execution": {
     "iopub.execute_input": "2025-01-23T17:35:07.575173Z",
     "iopub.status.busy": "2025-01-23T17:35:07.574804Z",
     "iopub.status.idle": "2025-01-23T17:35:07.589303Z",
     "shell.execute_reply": "2025-01-23T17:35:07.588202Z",
     "shell.execute_reply.started": "2025-01-23T17:35:07.575141Z"
    },
    "trusted": true
   },
   "outputs": [
    {
     "name": "stdout",
     "output_type": "stream",
     "text": [
      "    Age  HB (gm/dl)  ESR(mm)  WBC(TC) (/cumm)  Neutrophils (%)  \\\n",
      "0  14.0        11.4     28.0           4200.0               57   \n",
      "1  26.0        12.2     43.0           4700.0               77   \n",
      "2  42.0        14.9    103.0          19800.0               82   \n",
      "3  35.0        13.9     12.0           9700.0               88   \n",
      "4   8.0        10.0     28.0          10600.0               46   \n",
      "\n",
      "   lymphocytes (%)  Monocytes (%)  Eosinophils (%)  Cir Eosinophils (/cumm)  \\\n",
      "0               36            5.0              2.0                     84.0   \n",
      "1               19            3.0              1.0                     47.0   \n",
      "2               15            2.0              1.0                    198.0   \n",
      "3               10            1.0              1.0                     97.0   \n",
      "4               42            2.0             10.0                   1060.0   \n",
      "\n",
      "   RBC (m/ul)  HTC/PCV (%)  MCV (fl)  MCH (pg)  MCHC (g/dl)  RDW  (%)  \\\n",
      "0        4.64         37.0      79.7      24.6         30.8      15.5   \n",
      "1        4.24         39.7      93.6      28.8         30.8      14.3   \n",
      "2        5.31         47.4      89.3      28.1         30.8      13.7   \n",
      "3        5.49         46.3      84.3      25.3         30.8      14.1   \n",
      "4        3.99         33.0      82.7      25.1         30.8      13.7   \n",
      "\n",
      "   PDW (fl)  Platelete(PC)(/cumm)  MPV (fl)  PCT (%) Class Identification  \n",
      "0      20.1              167000.0      10.3     0.07             Negative  \n",
      "1      12.9              277000.0       8.5     0.24             Positive  \n",
      "2      12.7              215000.0       9.1     0.20             Negative  \n",
      "3      12.7              282000.0       8.7     0.25             Negative  \n",
      "4      11.5              337000.0       7.6     0.26             Negative  \n"
     ]
    }
   ],
   "source": [
    "print(train_df.head())"
   ]
  },
  {
   "cell_type": "code",
   "execution_count": 8,
   "metadata": {
    "execution": {
     "iopub.execute_input": "2025-01-23T17:35:33.631767Z",
     "iopub.status.busy": "2025-01-23T17:35:33.631412Z",
     "iopub.status.idle": "2025-01-23T17:35:33.640653Z",
     "shell.execute_reply": "2025-01-23T17:35:33.639565Z",
     "shell.execute_reply.started": "2025-01-23T17:35:33.631737Z"
    },
    "trusted": true
   },
   "outputs": [
    {
     "name": "stdout",
     "output_type": "stream",
     "text": [
      "Age                        3\n",
      "HB (gm/dl)                 0\n",
      "ESR(mm)                    0\n",
      "WBC(TC) (/cumm)            1\n",
      "Neutrophils (%)            0\n",
      "lymphocytes (%)            0\n",
      "Monocytes (%)              2\n",
      "Eosinophils (%)            2\n",
      "Cir Eosinophils (/cumm)    3\n",
      "RBC (m/ul)                 2\n",
      "HTC/PCV (%)                0\n",
      "MCV (fl)                   3\n",
      "MCH (pg)                   1\n",
      "MCHC (g/dl)                0\n",
      "RDW  (%)                   1\n",
      "PDW (fl)                   0\n",
      "Platelete(PC)(/cumm)       2\n",
      "MPV (fl)                   1\n",
      "PCT (%)                    0\n",
      "Class Identification       0\n",
      "dtype: int64\n",
      "Age                        0\n",
      "HB (gm/dl)                 0\n",
      "ESR(mm)                    2\n",
      "WBC(TC) (/cumm)            0\n",
      "Neutrophils (%)            0\n",
      "lymphocytes (%)            0\n",
      "Monocytes (%)              0\n",
      "Eosinophils (%)            0\n",
      "Cir Eosinophils (/cumm)    0\n",
      "RBC (m/ul)                 0\n",
      "HTC/PCV (%)                0\n",
      "MCV (fl)                   0\n",
      "MCH (pg)                   0\n",
      "MCHC (g/dl)                0\n",
      "RDW  (%)                   0\n",
      "PDW (fl)                   1\n",
      "Platelete(PC)(/cumm)       0\n",
      "MPV (fl)                   0\n",
      "PCT (%)                    0\n",
      "dtype: int64\n"
     ]
    }
   ],
   "source": [
    "print(train_df.isna().sum())  \n",
    "print(test_df.isna().sum())  "
   ]
  },
  {
   "cell_type": "code",
   "execution_count": 9,
   "metadata": {
    "execution": {
     "iopub.execute_input": "2025-01-23T17:35:38.226937Z",
     "iopub.status.busy": "2025-01-23T17:35:38.226595Z",
     "iopub.status.idle": "2025-01-23T17:35:38.232316Z",
     "shell.execute_reply": "2025-01-23T17:35:38.231188Z",
     "shell.execute_reply.started": "2025-01-23T17:35:38.226906Z"
    },
    "trusted": true
   },
   "outputs": [],
   "source": [
    "numerical_cols = train_df.select_dtypes(include=[np.number]).columns.tolist()"
   ]
  },
  {
   "cell_type": "code",
   "execution_count": 10,
   "metadata": {
    "execution": {
     "iopub.execute_input": "2025-01-23T17:35:49.158480Z",
     "iopub.status.busy": "2025-01-23T17:35:49.158069Z",
     "iopub.status.idle": "2025-01-23T17:35:49.189313Z",
     "shell.execute_reply": "2025-01-23T17:35:49.188201Z",
     "shell.execute_reply.started": "2025-01-23T17:35:49.158446Z"
    },
    "trusted": true
   },
   "outputs": [],
   "source": [
    "train_df[numerical_cols] = train_df[numerical_cols].fillna(train_df[numerical_cols].median())\n",
    "test_df[numerical_cols] = test_df[numerical_cols].fillna(test_df[numerical_cols].median())"
   ]
  },
  {
   "cell_type": "code",
   "execution_count": 11,
   "metadata": {
    "execution": {
     "iopub.execute_input": "2025-01-23T17:35:52.307681Z",
     "iopub.status.busy": "2025-01-23T17:35:52.307330Z",
     "iopub.status.idle": "2025-01-23T17:35:52.320462Z",
     "shell.execute_reply": "2025-01-23T17:35:52.318974Z",
     "shell.execute_reply.started": "2025-01-23T17:35:52.307650Z"
    },
    "trusted": true
   },
   "outputs": [
    {
     "name": "stdout",
     "output_type": "stream",
     "text": [
      "Age                        0\n",
      "HB (gm/dl)                 0\n",
      "ESR(mm)                    0\n",
      "WBC(TC) (/cumm)            0\n",
      "Neutrophils (%)            0\n",
      "lymphocytes (%)            0\n",
      "Monocytes (%)              0\n",
      "Eosinophils (%)            0\n",
      "Cir Eosinophils (/cumm)    0\n",
      "RBC (m/ul)                 0\n",
      "HTC/PCV (%)                0\n",
      "MCV (fl)                   0\n",
      "MCH (pg)                   0\n",
      "MCHC (g/dl)                0\n",
      "RDW  (%)                   0\n",
      "PDW (fl)                   0\n",
      "Platelete(PC)(/cumm)       0\n",
      "MPV (fl)                   0\n",
      "PCT (%)                    0\n",
      "Class Identification       0\n",
      "dtype: int64\n",
      "Age                        0\n",
      "HB (gm/dl)                 0\n",
      "ESR(mm)                    0\n",
      "WBC(TC) (/cumm)            0\n",
      "Neutrophils (%)            0\n",
      "lymphocytes (%)            0\n",
      "Monocytes (%)              0\n",
      "Eosinophils (%)            0\n",
      "Cir Eosinophils (/cumm)    0\n",
      "RBC (m/ul)                 0\n",
      "HTC/PCV (%)                0\n",
      "MCV (fl)                   0\n",
      "MCH (pg)                   0\n",
      "MCHC (g/dl)                0\n",
      "RDW  (%)                   0\n",
      "PDW (fl)                   0\n",
      "Platelete(PC)(/cumm)       0\n",
      "MPV (fl)                   0\n",
      "PCT (%)                    0\n",
      "dtype: int64\n"
     ]
    }
   ],
   "source": [
    "print(train_df.isna().sum())  \n",
    "print(test_df.isna().sum())   "
   ]
  },
  {
   "cell_type": "code",
   "execution_count": 12,
   "metadata": {
    "execution": {
     "iopub.execute_input": "2025-01-23T17:35:56.492306Z",
     "iopub.status.busy": "2025-01-23T17:35:56.491904Z",
     "iopub.status.idle": "2025-01-23T17:35:56.500685Z",
     "shell.execute_reply": "2025-01-23T17:35:56.499374Z",
     "shell.execute_reply.started": "2025-01-23T17:35:56.492269Z"
    },
    "trusted": true
   },
   "outputs": [],
   "source": [
    "train_df['Class Identification'] = train_df['Class Identification'].map({'Positive': 1, 'Negative': 0})"
   ]
  },
  {
   "cell_type": "code",
   "execution_count": 13,
   "metadata": {
    "execution": {
     "iopub.execute_input": "2025-01-23T17:35:59.517226Z",
     "iopub.status.busy": "2025-01-23T17:35:59.516812Z",
     "iopub.status.idle": "2025-01-23T17:35:59.524804Z",
     "shell.execute_reply": "2025-01-23T17:35:59.523625Z",
     "shell.execute_reply.started": "2025-01-23T17:35:59.517190Z"
    },
    "trusted": true
   },
   "outputs": [
    {
     "name": "stdout",
     "output_type": "stream",
     "text": [
      "0    0.0\n",
      "1    1.0\n",
      "2    0.0\n",
      "3    0.0\n",
      "4    0.0\n",
      "Name: Class Identification, dtype: float64\n"
     ]
    }
   ],
   "source": [
    "print(train_df['Class Identification'].head())"
   ]
  },
  {
   "cell_type": "code",
   "execution_count": 14,
   "metadata": {
    "execution": {
     "iopub.execute_input": "2025-01-23T17:36:02.927550Z",
     "iopub.status.busy": "2025-01-23T17:36:02.927131Z",
     "iopub.status.idle": "2025-01-23T17:36:02.934680Z",
     "shell.execute_reply": "2025-01-23T17:36:02.933243Z",
     "shell.execute_reply.started": "2025-01-23T17:36:02.927513Z"
    },
    "trusted": true
   },
   "outputs": [],
   "source": [
    "X = train_df.drop(columns=['Class Identification'])\n",
    "y = train_df['Class Identification']"
   ]
  },
  {
   "cell_type": "code",
   "execution_count": 15,
   "metadata": {
    "execution": {
     "iopub.execute_input": "2025-01-23T17:36:05.456446Z",
     "iopub.status.busy": "2025-01-23T17:36:05.456036Z",
     "iopub.status.idle": "2025-01-23T17:36:05.462769Z",
     "shell.execute_reply": "2025-01-23T17:36:05.461443Z",
     "shell.execute_reply.started": "2025-01-23T17:36:05.456412Z"
    },
    "trusted": true
   },
   "outputs": [
    {
     "name": "stdout",
     "output_type": "stream",
     "text": [
      "(529, 19)\n",
      "(529,)\n"
     ]
    }
   ],
   "source": [
    "print(X.shape)\n",
    "print(y.shape)"
   ]
  },
  {
   "cell_type": "code",
   "execution_count": 16,
   "metadata": {
    "execution": {
     "iopub.execute_input": "2025-01-23T17:36:08.873301Z",
     "iopub.status.busy": "2025-01-23T17:36:08.872871Z",
     "iopub.status.idle": "2025-01-23T17:36:08.882061Z",
     "shell.execute_reply": "2025-01-23T17:36:08.880951Z",
     "shell.execute_reply.started": "2025-01-23T17:36:08.873261Z"
    },
    "trusted": true
   },
   "outputs": [],
   "source": [
    "X_train, X_valid, y_train, y_valid = train_test_split(X, y, test_size=0.2, random_state=42)"
   ]
  },
  {
   "cell_type": "code",
   "execution_count": 17,
   "metadata": {
    "execution": {
     "iopub.execute_input": "2025-01-23T17:36:12.419124Z",
     "iopub.status.busy": "2025-01-23T17:36:12.418626Z",
     "iopub.status.idle": "2025-01-23T17:36:12.426523Z",
     "shell.execute_reply": "2025-01-23T17:36:12.425150Z",
     "shell.execute_reply.started": "2025-01-23T17:36:12.419060Z"
    },
    "trusted": true
   },
   "outputs": [
    {
     "name": "stdout",
     "output_type": "stream",
     "text": [
      "(423, 19) (106, 19)\n",
      "(423,) (106,)\n"
     ]
    }
   ],
   "source": [
    "print(X_train.shape, X_valid.shape)\n",
    "print(y_train.shape, y_valid.shape)"
   ]
  },
  {
   "cell_type": "code",
   "execution_count": 18,
   "metadata": {
    "execution": {
     "iopub.execute_input": "2025-01-23T17:36:15.703810Z",
     "iopub.status.busy": "2025-01-23T17:36:15.703420Z",
     "iopub.status.idle": "2025-01-23T17:36:15.714427Z",
     "shell.execute_reply": "2025-01-23T17:36:15.713320Z",
     "shell.execute_reply.started": "2025-01-23T17:36:15.703766Z"
    },
    "trusted": true
   },
   "outputs": [],
   "source": [
    "train_df = train_df.dropna(subset=['Class Identification'])  \n",
    "X = train_df.drop(columns=['Class Identification'])  \n",
    "y = train_df['Class Identification'] "
   ]
  },
  {
   "cell_type": "code",
   "execution_count": 19,
   "metadata": {
    "execution": {
     "iopub.execute_input": "2025-01-23T17:36:19.110572Z",
     "iopub.status.busy": "2025-01-23T17:36:19.110232Z",
     "iopub.status.idle": "2025-01-23T17:36:19.119555Z",
     "shell.execute_reply": "2025-01-23T17:36:19.118385Z",
     "shell.execute_reply.started": "2025-01-23T17:36:19.110545Z"
    },
    "trusted": true
   },
   "outputs": [],
   "source": [
    "X_train, X_valid, y_train, y_valid = train_test_split(X, y, test_size=0.2, random_state=42)"
   ]
  },
  {
   "cell_type": "code",
   "execution_count": 20,
   "metadata": {
    "execution": {
     "iopub.execute_input": "2025-01-23T17:36:21.944569Z",
     "iopub.status.busy": "2025-01-23T17:36:21.944084Z",
     "iopub.status.idle": "2025-01-23T17:36:22.179710Z",
     "shell.execute_reply": "2025-01-23T17:36:22.178589Z",
     "shell.execute_reply.started": "2025-01-23T17:36:21.944533Z"
    },
    "trusted": true
   },
   "outputs": [
    {
     "data": {
      "text/html": [
       "<style>#sk-container-id-1 {color: black;background-color: white;}#sk-container-id-1 pre{padding: 0;}#sk-container-id-1 div.sk-toggleable {background-color: white;}#sk-container-id-1 label.sk-toggleable__label {cursor: pointer;display: block;width: 100%;margin-bottom: 0;padding: 0.3em;box-sizing: border-box;text-align: center;}#sk-container-id-1 label.sk-toggleable__label-arrow:before {content: \"▸\";float: left;margin-right: 0.25em;color: #696969;}#sk-container-id-1 label.sk-toggleable__label-arrow:hover:before {color: black;}#sk-container-id-1 div.sk-estimator:hover label.sk-toggleable__label-arrow:before {color: black;}#sk-container-id-1 div.sk-toggleable__content {max-height: 0;max-width: 0;overflow: hidden;text-align: left;background-color: #f0f8ff;}#sk-container-id-1 div.sk-toggleable__content pre {margin: 0.2em;color: black;border-radius: 0.25em;background-color: #f0f8ff;}#sk-container-id-1 input.sk-toggleable__control:checked~div.sk-toggleable__content {max-height: 200px;max-width: 100%;overflow: auto;}#sk-container-id-1 input.sk-toggleable__control:checked~label.sk-toggleable__label-arrow:before {content: \"▾\";}#sk-container-id-1 div.sk-estimator input.sk-toggleable__control:checked~label.sk-toggleable__label {background-color: #d4ebff;}#sk-container-id-1 div.sk-label input.sk-toggleable__control:checked~label.sk-toggleable__label {background-color: #d4ebff;}#sk-container-id-1 input.sk-hidden--visually {border: 0;clip: rect(1px 1px 1px 1px);clip: rect(1px, 1px, 1px, 1px);height: 1px;margin: -1px;overflow: hidden;padding: 0;position: absolute;width: 1px;}#sk-container-id-1 div.sk-estimator {font-family: monospace;background-color: #f0f8ff;border: 1px dotted black;border-radius: 0.25em;box-sizing: border-box;margin-bottom: 0.5em;}#sk-container-id-1 div.sk-estimator:hover {background-color: #d4ebff;}#sk-container-id-1 div.sk-parallel-item::after {content: \"\";width: 100%;border-bottom: 1px solid gray;flex-grow: 1;}#sk-container-id-1 div.sk-label:hover label.sk-toggleable__label {background-color: #d4ebff;}#sk-container-id-1 div.sk-serial::before {content: \"\";position: absolute;border-left: 1px solid gray;box-sizing: border-box;top: 0;bottom: 0;left: 50%;z-index: 0;}#sk-container-id-1 div.sk-serial {display: flex;flex-direction: column;align-items: center;background-color: white;padding-right: 0.2em;padding-left: 0.2em;position: relative;}#sk-container-id-1 div.sk-item {position: relative;z-index: 1;}#sk-container-id-1 div.sk-parallel {display: flex;align-items: stretch;justify-content: center;background-color: white;position: relative;}#sk-container-id-1 div.sk-item::before, #sk-container-id-1 div.sk-parallel-item::before {content: \"\";position: absolute;border-left: 1px solid gray;box-sizing: border-box;top: 0;bottom: 0;left: 50%;z-index: -1;}#sk-container-id-1 div.sk-parallel-item {display: flex;flex-direction: column;z-index: 1;position: relative;background-color: white;}#sk-container-id-1 div.sk-parallel-item:first-child::after {align-self: flex-end;width: 50%;}#sk-container-id-1 div.sk-parallel-item:last-child::after {align-self: flex-start;width: 50%;}#sk-container-id-1 div.sk-parallel-item:only-child::after {width: 0;}#sk-container-id-1 div.sk-dashed-wrapped {border: 1px dashed gray;margin: 0 0.4em 0.5em 0.4em;box-sizing: border-box;padding-bottom: 0.4em;background-color: white;}#sk-container-id-1 div.sk-label label {font-family: monospace;font-weight: bold;display: inline-block;line-height: 1.2em;}#sk-container-id-1 div.sk-label-container {text-align: center;}#sk-container-id-1 div.sk-container {/* jupyter's `normalize.less` sets `[hidden] { display: none; }` but bootstrap.min.css set `[hidden] { display: none !important; }` so we also need the `!important` here to be able to override the default hidden behavior on the sphinx rendered scikit-learn.org. See: https://github.com/scikit-learn/scikit-learn/issues/21755 */display: inline-block !important;position: relative;}#sk-container-id-1 div.sk-text-repr-fallback {display: none;}</style><div id=\"sk-container-id-1\" class=\"sk-top-container\"><div class=\"sk-text-repr-fallback\"><pre>RandomForestClassifier(random_state=42)</pre><b>In a Jupyter environment, please rerun this cell to show the HTML representation or trust the notebook. <br />On GitHub, the HTML representation is unable to render, please try loading this page with nbviewer.org.</b></div><div class=\"sk-container\" hidden><div class=\"sk-item\"><div class=\"sk-estimator sk-toggleable\"><input class=\"sk-toggleable__control sk-hidden--visually\" id=\"sk-estimator-id-1\" type=\"checkbox\" checked><label for=\"sk-estimator-id-1\" class=\"sk-toggleable__label sk-toggleable__label-arrow\">RandomForestClassifier</label><div class=\"sk-toggleable__content\"><pre>RandomForestClassifier(random_state=42)</pre></div></div></div></div></div>"
      ],
      "text/plain": [
       "RandomForestClassifier(random_state=42)"
      ]
     },
     "execution_count": 20,
     "metadata": {},
     "output_type": "execute_result"
    }
   ],
   "source": [
    "model = RandomForestClassifier(random_state=42, n_estimators=100)\n",
    "model.fit(X_train, y_train)"
   ]
  },
  {
   "cell_type": "code",
   "execution_count": 30,
   "metadata": {
    "execution": {
     "iopub.execute_input": "2025-01-23T17:44:57.113503Z",
     "iopub.status.busy": "2025-01-23T17:44:57.113153Z",
     "iopub.status.idle": "2025-01-23T17:44:57.173841Z",
     "shell.execute_reply": "2025-01-23T17:44:57.172301Z",
     "shell.execute_reply.started": "2025-01-23T17:44:57.113473Z"
    },
    "trusted": true
   },
   "outputs": [
    {
     "data": {
      "text/plain": [
       "['model.joblib']"
      ]
     },
     "execution_count": 30,
     "metadata": {},
     "output_type": "execute_result"
    }
   ],
   "source": [
    "import joblib\n",
    "joblib.dump(model, 'model.joblib')"
   ]
  },
  {
   "cell_type": "code",
   "execution_count": 21,
   "metadata": {
    "execution": {
     "iopub.execute_input": "2025-01-23T17:36:26.227959Z",
     "iopub.status.busy": "2025-01-23T17:36:26.227595Z",
     "iopub.status.idle": "2025-01-23T17:36:26.248603Z",
     "shell.execute_reply": "2025-01-23T17:36:26.247539Z",
     "shell.execute_reply.started": "2025-01-23T17:36:26.227929Z"
    },
    "trusted": true
   },
   "outputs": [
    {
     "name": "stdout",
     "output_type": "stream",
     "text": [
      "Training Accuracy: 1.0\n"
     ]
    }
   ],
   "source": [
    "print(\"Training Accuracy:\", model.score(X_train, y_train))"
   ]
  },
  {
   "cell_type": "code",
   "execution_count": 22,
   "metadata": {
    "execution": {
     "iopub.execute_input": "2025-01-23T17:36:30.376064Z",
     "iopub.status.busy": "2025-01-23T17:36:30.375603Z",
     "iopub.status.idle": "2025-01-23T17:36:30.399937Z",
     "shell.execute_reply": "2025-01-23T17:36:30.398607Z",
     "shell.execute_reply.started": "2025-01-23T17:36:30.376024Z"
    },
    "trusted": true
   },
   "outputs": [],
   "source": [
    "y_pred = model.predict(X_valid)\n",
    "y_prob = model.predict_proba(X_valid)[:, 1] "
   ]
  },
  {
   "cell_type": "code",
   "execution_count": 23,
   "metadata": {
    "execution": {
     "iopub.execute_input": "2025-01-23T17:36:36.975507Z",
     "iopub.status.busy": "2025-01-23T17:36:36.974995Z",
     "iopub.status.idle": "2025-01-23T17:36:37.001301Z",
     "shell.execute_reply": "2025-01-23T17:36:36.999335Z",
     "shell.execute_reply.started": "2025-01-23T17:36:36.975463Z"
    },
    "trusted": true
   },
   "outputs": [
    {
     "name": "stdout",
     "output_type": "stream",
     "text": [
      "ROC AUC Score: 0.929820301117047\n",
      "\n",
      "Classification Report:\n",
      "               precision    recall  f1-score   support\n",
      "\n",
      "         0.0       0.88      0.92      0.90        71\n",
      "         1.0       0.77      0.69      0.73        29\n",
      "\n",
      "    accuracy                           0.85       100\n",
      "   macro avg       0.82      0.80      0.81       100\n",
      "weighted avg       0.85      0.85      0.85       100\n",
      "\n"
     ]
    }
   ],
   "source": [
    "roc_auc = roc_auc_score(y_valid, y_prob)\n",
    "print(\"ROC AUC Score:\", roc_auc)\n",
    "print(\"\\nClassification Report:\\n\", classification_report(y_valid, y_pred))"
   ]
  },
  {
   "cell_type": "code",
   "execution_count": 24,
   "metadata": {
    "execution": {
     "iopub.execute_input": "2025-01-23T17:36:43.215123Z",
     "iopub.status.busy": "2025-01-23T17:36:43.214685Z",
     "iopub.status.idle": "2025-01-23T17:36:43.592775Z",
     "shell.execute_reply": "2025-01-23T17:36:43.591283Z",
     "shell.execute_reply.started": "2025-01-23T17:36:43.215066Z"
    },
    "trusted": true
   },
   "outputs": [
    {
     "data": {
      "image/png": "[encoded data removed]",
      "text/plain": [
       "<Figure size 1000x600 with 1 Axes>"
      ]
     },
     "metadata": {},
     "output_type": "display_data"
    }
   ],
   "source": [
    "fpr, tpr, _ = roc_curve(y_valid, y_prob)\n",
    "plt.figure(figsize=(10, 6))\n",
    "plt.plot(fpr, tpr, label=f\"ROC Curve (AUC = {roc_auc:.2f})\")\n",
    "plt.plot([0, 1], [0, 1], 'k--', label=\"Random Guess\")\n",
    "plt.xlabel(\"False Positive Rate\")\n",
    "plt.ylabel(\"True Positive Rate\")\n",
    "plt.title(\"ROC Curve\")\n",
    "plt.legend()\n",
    "plt.show()"
   ]
  },
  {
   "cell_type": "code",
   "execution_count": 30,
   "metadata": {
    "execution": {
     "iopub.execute_input": "2025-01-20T13:43:52.011425Z",
     "iopub.status.busy": "2025-01-20T13:43:52.011004Z",
     "iopub.status.idle": "2025-01-20T13:43:52.028082Z",
     "shell.execute_reply": "2025-01-20T13:43:52.027119Z",
     "shell.execute_reply.started": "2025-01-20T13:43:52.011394Z"
    },
    "trusted": true
   },
   "outputs": [],
   "source": [
    "test_predictions = model.predict_proba(test_df)[:, 1]"
   ]
  },
  {
   "cell_type": "code",
   "execution_count": 32,
   "metadata": {
    "execution": {
     "iopub.execute_input": "2025-01-20T13:45:16.473554Z",
     "iopub.status.busy": "2025-01-20T13:45:16.473151Z",
     "iopub.status.idle": "2025-01-20T13:45:16.478785Z",
     "shell.execute_reply": "2025-01-20T13:45:16.477633Z",
     "shell.execute_reply.started": "2025-01-20T13:45:16.473525Z"
    },
    "trusted": true
   },
   "outputs": [
    {
     "name": "stdout",
     "output_type": "stream",
     "text": [
      "Shape of test_df: (100, 19)\n",
      "Shape of sample_submission: (7, 2)\n"
     ]
    }
   ],
   "source": [
    "print(f\"Shape of test_df: {test_df.shape}\")\n",
    "print(f\"Shape of sample_submission: {sample_submission.shape}\")"
   ]
  },
  {
   "cell_type": "code",
   "execution_count": 35,
   "metadata": {
    "execution": {
     "iopub.execute_input": "2025-01-20T13:49:15.030213Z",
     "iopub.status.busy": "2025-01-20T13:49:15.029804Z",
     "iopub.status.idle": "2025-01-20T13:49:15.035633Z",
     "shell.execute_reply": "2025-01-20T13:49:15.034481Z",
     "shell.execute_reply.started": "2025-01-20T13:49:15.030180Z"
    },
    "trusted": true
   },
   "outputs": [
    {
     "name": "stdout",
     "output_type": "stream",
     "text": [
      "Index(['Age', 'HB (gm/dl)', 'ESR(mm)', 'WBC(TC) (/cumm)', 'Neutrophils (%)',\n",
      "       'lymphocytes (%)', 'Monocytes (%)', 'Eosinophils (%)',\n",
      "       'Cir Eosinophils (/cumm)', 'RBC (m/ul)', 'HTC/PCV (%)', 'MCV (fl)',\n",
      "       'MCH (pg)', 'MCHC (g/dl)', 'RDW  (%)', 'PDW (fl)',\n",
      "       'Platelete(PC)(/cumm)', 'MPV (fl)', 'PCT (%)'],\n",
      "      dtype='object')\n"
     ]
    }
   ],
   "source": [
    "print(test_df.columns)"
   ]
  },
  {
   "cell_type": "code",
   "execution_count": 36,
   "metadata": {
    "execution": {
     "iopub.execute_input": "2025-01-20T13:49:54.348199Z",
     "iopub.status.busy": "2025-01-20T13:49:54.347829Z",
     "iopub.status.idle": "2025-01-20T13:49:54.354578Z",
     "shell.execute_reply": "2025-01-20T13:49:54.353181Z",
     "shell.execute_reply.started": "2025-01-20T13:49:54.348146Z"
    },
    "trusted": true
   },
   "outputs": [],
   "source": [
    "sample_submission = pd.DataFrame({'ID': range(1, len(test_df) + 1), 'Prediction': np.nan})"
   ]
  },
  {
   "cell_type": "code",
   "execution_count": 37,
   "metadata": {
    "execution": {
     "iopub.execute_input": "2025-01-20T13:50:14.085546Z",
     "iopub.status.busy": "2025-01-20T13:50:14.085129Z",
     "iopub.status.idle": "2025-01-20T13:50:14.090404Z",
     "shell.execute_reply": "2025-01-20T13:50:14.089114Z",
     "shell.execute_reply.started": "2025-01-20T13:50:14.085514Z"
    },
    "trusted": true
   },
   "outputs": [],
   "source": [
    "sample_submission['Prediction'] = test_predictions"
   ]
  },
  {
   "cell_type": "code",
   "execution_count": 38,
   "metadata": {
    "execution": {
     "iopub.execute_input": "2025-01-20T13:51:04.389407Z",
     "iopub.status.busy": "2025-01-20T13:51:04.389016Z",
     "iopub.status.idle": "2025-01-20T13:51:04.401212Z",
     "shell.execute_reply": "2025-01-20T13:51:04.400094Z",
     "shell.execute_reply.started": "2025-01-20T13:51:04.389375Z"
    },
    "trusted": true
   },
   "outputs": [],
   "source": [
    "sample_submission.to_csv('submission.csv', index=False)"
   ]
  },
  {
   "cell_type": "code",
   "execution_count": 40,
   "metadata": {
    "execution": {
     "iopub.execute_input": "2025-01-20T14:01:56.496865Z",
     "iopub.status.busy": "2025-01-20T14:01:56.496521Z",
     "iopub.status.idle": "2025-01-20T14:01:56.501497Z",
     "shell.execute_reply": "2025-01-20T14:01:56.500161Z",
     "shell.execute_reply.started": "2025-01-20T14:01:56.496831Z"
    },
    "trusted": true
   },
   "outputs": [],
   "source": [
    "import numpy as np\n",
    "from sklearn.metrics import precision_recall_curve"
   ]
  },
  {
   "cell_type": "code",
   "execution_count": 41,
   "metadata": {
    "execution": {
     "iopub.execute_input": "2025-01-20T14:02:08.328407Z",
     "iopub.status.busy": "2025-01-20T14:02:08.328012Z",
     "iopub.status.idle": "2025-01-20T14:02:08.346229Z",
     "shell.execute_reply": "2025-01-20T14:02:08.345036Z",
     "shell.execute_reply.started": "2025-01-20T14:02:08.328375Z"
    },
    "trusted": true
   },
   "outputs": [],
   "source": [
    "train_predictions = model.predict_proba(X_train)[:, 1]"
   ]
  },
  {
   "cell_type": "code",
   "execution_count": 42,
   "metadata": {
    "execution": {
     "iopub.execute_input": "2025-01-20T14:02:20.875070Z",
     "iopub.status.busy": "2025-01-20T14:02:20.874741Z",
     "iopub.status.idle": "2025-01-20T14:02:20.881810Z",
     "shell.execute_reply": "2025-01-20T14:02:20.880699Z",
     "shell.execute_reply.started": "2025-01-20T14:02:20.875043Z"
    },
    "trusted": true
   },
   "outputs": [],
   "source": [
    "precision, recall, thresholds = precision_recall_curve(y_train, train_predictions)"
   ]
  },
  {
   "cell_type": "code",
   "execution_count": 43,
   "metadata": {
    "execution": {
     "iopub.execute_input": "2025-01-20T14:02:35.941325Z",
     "iopub.status.busy": "2025-01-20T14:02:35.940909Z",
     "iopub.status.idle": "2025-01-20T14:02:35.945847Z",
     "shell.execute_reply": "2025-01-20T14:02:35.944536Z",
     "shell.execute_reply.started": "2025-01-20T14:02:35.941291Z"
    },
    "trusted": true
   },
   "outputs": [],
   "source": [
    "f1_scores = 2 * (precision * recall) / (precision + recall)"
   ]
  },
  {
   "cell_type": "code",
   "execution_count": 44,
   "metadata": {
    "execution": {
     "iopub.execute_input": "2025-01-20T14:02:50.298710Z",
     "iopub.status.busy": "2025-01-20T14:02:50.298311Z",
     "iopub.status.idle": "2025-01-20T14:02:50.303729Z",
     "shell.execute_reply": "2025-01-20T14:02:50.302436Z",
     "shell.execute_reply.started": "2025-01-20T14:02:50.298676Z"
    },
    "trusted": true
   },
   "outputs": [],
   "source": [
    "best_threshold_index = np.argmax(f1_scores)\n",
    "best_threshold = thresholds[best_threshold_index]\n",
    "best_f1_score = f1_scores[best_threshold_index]"
   ]
  },
  {
   "cell_type": "code",
   "execution_count": 45,
   "metadata": {
    "execution": {
     "iopub.execute_input": "2025-01-20T14:03:06.405945Z",
     "iopub.status.busy": "2025-01-20T14:03:06.405582Z",
     "iopub.status.idle": "2025-01-20T14:03:06.411641Z",
     "shell.execute_reply": "2025-01-20T14:03:06.410569Z",
     "shell.execute_reply.started": "2025-01-20T14:03:06.405913Z"
    },
    "trusted": true
   },
   "outputs": [
    {
     "name": "stdout",
     "output_type": "stream",
     "text": [
      "Optimal Threshold: 0.62\n",
      "Best F1 Score: 1.0\n"
     ]
    }
   ],
   "source": [
    "print(f\"Optimal Threshold: {best_threshold}\")\n",
    "print(f\"Best F1 Score: {best_f1_score}\")"
   ]
  },
  {
   "cell_type": "code",
   "execution_count": 46,
   "metadata": {
    "execution": {
     "iopub.execute_input": "2025-01-20T14:04:54.510982Z",
     "iopub.status.busy": "2025-01-20T14:04:54.510651Z",
     "iopub.status.idle": "2025-01-20T14:04:54.515325Z",
     "shell.execute_reply": "2025-01-20T14:04:54.514226Z",
     "shell.execute_reply.started": "2025-01-20T14:04:54.510955Z"
    },
    "trusted": true
   },
   "outputs": [],
   "source": [
    "test_predictions_binary = ['Positive' if p >= best_threshold else 'Negative' for p in test_predictions]"
   ]
  },
  {
   "cell_type": "code",
   "execution_count": 48,
   "metadata": {
    "execution": {
     "iopub.execute_input": "2025-01-20T14:07:12.733519Z",
     "iopub.status.busy": "2025-01-20T14:07:12.733130Z",
     "iopub.status.idle": "2025-01-20T14:07:12.740074Z",
     "shell.execute_reply": "2025-01-20T14:07:12.738837Z",
     "shell.execute_reply.started": "2025-01-20T14:07:12.733490Z"
    },
    "trusted": true
   },
   "outputs": [],
   "source": [
    "test_df['ID'] = test_df.index + 1\n",
    "sample_submission = pd.DataFrame({\n",
    "    'ID': test_df['ID'],\n",
    "    'Prediction': test_predictions_binary\n",
    "})"
   ]
  },
  {
   "cell_type": "code",
   "execution_count": 51,
   "metadata": {
    "execution": {
     "iopub.execute_input": "2025-01-20T14:09:39.012396Z",
     "iopub.status.busy": "2025-01-20T14:09:39.012021Z",
     "iopub.status.idle": "2025-01-20T14:09:39.018497Z",
     "shell.execute_reply": "2025-01-20T14:09:39.017398Z",
     "shell.execute_reply.started": "2025-01-20T14:09:39.012366Z"
    },
    "trusted": true
   },
   "outputs": [],
   "source": [
    "sample_submission.to_csv('submission.csv', index=False)"
   ]
  },
  {
   "cell_type": "code",
   "execution_count": 52,
   "metadata": {
    "execution": {
     "iopub.execute_input": "2025-01-20T14:17:07.620968Z",
     "iopub.status.busy": "2025-01-20T14:17:07.620600Z",
     "iopub.status.idle": "2025-01-20T14:17:07.625957Z",
     "shell.execute_reply": "2025-01-20T14:17:07.624583Z",
     "shell.execute_reply.started": "2025-01-20T14:17:07.620936Z"
    },
    "trusted": true
   },
   "outputs": [],
   "source": [
    "import os\n",
    "\n",
    "file_path = '/kaggle/working/submission1.csv'\n",
    "\n",
    "if os.path.exists(file_path):\n",
    "    os.remove(file_path)"
   ]
  },
  {
   "cell_type": "code",
   "execution_count": 53,
   "metadata": {
    "execution": {
     "iopub.execute_input": "2025-01-20T14:36:27.639356Z",
     "iopub.status.busy": "2025-01-20T14:36:27.638991Z",
     "iopub.status.idle": "2025-01-20T14:36:27.645500Z",
     "shell.execute_reply": "2025-01-20T14:36:27.644416Z",
     "shell.execute_reply.started": "2025-01-20T14:36:27.639326Z"
    },
    "trusted": true
   },
   "outputs": [
    {
     "name": "stdout",
     "output_type": "stream",
     "text": [
      "object\n"
     ]
    }
   ],
   "source": [
    "print(sample_submission['Prediction'].dtype)"
   ]
  },
  {
   "cell_type": "code",
   "execution_count": 57,
   "metadata": {
    "execution": {
     "iopub.execute_input": "2025-01-20T14:42:24.469729Z",
     "iopub.status.busy": "2025-01-20T14:42:24.469375Z",
     "iopub.status.idle": "2025-01-20T14:42:24.477388Z",
     "shell.execute_reply": "2025-01-20T14:42:24.476287Z",
     "shell.execute_reply.started": "2025-01-20T14:42:24.469699Z"
    },
    "trusted": true
   },
   "outputs": [],
   "source": [
    "sample_submission['Prediction'] = sample_submission['Prediction'].map({0: 'Negative', 1: 'Positive'})"
   ]
  },
  {
   "cell_type": "code",
   "execution_count": 59,
   "metadata": {
    "execution": {
     "iopub.execute_input": "2025-01-20T14:43:02.974473Z",
     "iopub.status.busy": "2025-01-20T14:43:02.974047Z",
     "iopub.status.idle": "2025-01-20T14:43:02.979715Z",
     "shell.execute_reply": "2025-01-20T14:43:02.978639Z",
     "shell.execute_reply.started": "2025-01-20T14:43:02.974429Z"
    },
    "trusted": true
   },
   "outputs": [
    {
     "name": "stdout",
     "output_type": "stream",
     "text": [
      "object\n"
     ]
    }
   ],
   "source": [
    "print(sample_submission['Prediction'].dtype)"
   ]
  },
  {
   "cell_type": "code",
   "execution_count": 60,
   "metadata": {
    "execution": {
     "iopub.execute_input": "2025-01-20T14:43:13.026129Z",
     "iopub.status.busy": "2025-01-20T14:43:13.025784Z",
     "iopub.status.idle": "2025-01-20T14:43:13.032024Z",
     "shell.execute_reply": "2025-01-20T14:43:13.030954Z",
     "shell.execute_reply.started": "2025-01-20T14:43:13.026099Z"
    },
    "trusted": true
   },
   "outputs": [],
   "source": [
    "sample_submission.to_csv('submission.csv', index=False)"
   ]
  },
  {
   "cell_type": "code",
   "execution_count": 61,
   "metadata": {
    "execution": {
     "iopub.execute_input": "2025-01-20T14:45:46.519296Z",
     "iopub.status.busy": "2025-01-20T14:45:46.518822Z",
     "iopub.status.idle": "2025-01-20T14:45:46.524580Z",
     "shell.execute_reply": "2025-01-20T14:45:46.523322Z",
     "shell.execute_reply.started": "2025-01-20T14:45:46.519265Z"
    },
    "trusted": true
   },
   "outputs": [],
   "source": [
    "threshold = 0.62\n",
    "sample_submission['Prediction'] = sample_submission['Prediction'].apply(lambda x: 'Positive' if x >= threshold else 'Negative')"
   ]
  },
  {
   "cell_type": "code",
   "execution_count": 62,
   "metadata": {
    "execution": {
     "iopub.execute_input": "2025-01-20T14:45:59.709593Z",
     "iopub.status.busy": "2025-01-20T14:45:59.709267Z",
     "iopub.status.idle": "2025-01-20T14:45:59.715403Z",
     "shell.execute_reply": "2025-01-20T14:45:59.713965Z",
     "shell.execute_reply.started": "2025-01-20T14:45:59.709568Z"
    },
    "trusted": true
   },
   "outputs": [
    {
     "name": "stdout",
     "output_type": "stream",
     "text": [
      "object\n"
     ]
    }
   ],
   "source": [
    "print(sample_submission['Prediction'].dtype)"
   ]
  },
  {
   "cell_type": "code",
   "execution_count": 64,
   "metadata": {
    "execution": {
     "iopub.execute_input": "2025-01-20T14:46:26.735047Z",
     "iopub.status.busy": "2025-01-20T14:46:26.734724Z",
     "iopub.status.idle": "2025-01-20T14:46:26.741638Z",
     "shell.execute_reply": "2025-01-20T14:46:26.740447Z",
     "shell.execute_reply.started": "2025-01-20T14:46:26.735021Z"
    },
    "trusted": true
   },
   "outputs": [],
   "source": [
    "sample_submission.to_csv('submission.csv', index=False)"
   ]
  }
 ],
 "metadata": {
  "kaggle": {
   "accelerator": "none",
   "dataSources": [
    {
     "databundleVersionId": 10888424,
     "sourceId": 91400,
     "sourceType": "competition"
    }
   ],
   "dockerImageVersionId": 30839,
   "isGpuEnabled": false,
   "isInternetEnabled": false,
   "language": "python",
   "sourceType": "notebook"
  },
  "kernelspec": {
   "display_name": "Python 3",
   "language": "python",
   "name": "python3"
  },
  "language_info": {
   "codemirror_mode": {
    "name": "ipython",
    "version": 3
   },
   "file_extension": ".py",
   "mimetype": "text/x-python",
   "name": "python",
   "nbconvert_exporter": "python",
   "pygments_lexer": "ipython3",
   "version": "3.10.12"
  }
 },
 "nbformat": 4,
 "nbformat_minor": 4
}
