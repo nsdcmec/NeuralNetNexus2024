{
 "cells": [
  {
   "cell_type": "code",
   "execution_count": 1,
   "id": "cac6c8ad",
   "metadata": {
    "_cell_guid": "b1076dfc-b9ad-4769-8c92-a6c4dae69d19",
    "_uuid": "8f2839f25d086af736a60e9eeb907d3b93b6e0e5",
    "execution": {
     "iopub.execute_input": "2025-01-22T13:16:45.610911Z",
     "iopub.status.busy": "2025-01-22T13:16:45.610484Z",
     "iopub.status.idle": "2025-01-22T13:16:47.884460Z",
     "shell.execute_reply": "2025-01-22T13:16:47.883013Z"
    },
    "papermill": {
     "duration": 2.285875,
     "end_time": "2025-01-22T13:16:47.886326",
     "exception": false,
     "start_time": "2025-01-22T13:16:45.600451",
     "status": "completed"
    },
    "tags": []
   },
   "outputs": [
    {
     "name": "stdout",
     "output_type": "stream",
     "text": [
      "/kaggle/input/neural-net-nexus/sample_submission.csv\n",
      "/kaggle/input/neural-net-nexus/train.csv\n",
      "/kaggle/input/neural-net-nexus/test.csv\n"
     ]
    }
   ],
   "source": [
    "# This Python 3 environment comes with many helpful analytics libraries installed\n",
    "# It is defined by the kaggle/python Docker image: https://github.com/kaggle/docker-python\n",
    "# For example, here's several helpful packages to load\n",
    "\n",
    "import numpy as np # linear algebra\n",
    "import pandas as pd # data processing, CSV file I/O (e.g. pd.read_csv)\n",
    "from sklearn.preprocessing import StandardScaler, LabelEncoder # to encode the labels as numeric values\n",
    "\n",
    "# Input data files are available in the read-only \"../input/\" directory\n",
    "# For example, running this (by clicking run or pressing Shift+Enter) will list all files under the input directory\n",
    "\n",
    "import os\n",
    "for dirname, _, filenames in os.walk('/kaggle/input'):\n",
    "    for filename in filenames:\n",
    "        print(os.path.join(dirname, filename))\n",
    "\n",
    "# You can write up to 20GB to the current directory (/kaggle/working/) that gets preserved as output when you create a version using \"Save & Run All\" \n",
    "# You can also write temporary files to /kaggle/temp/, but they won't be saved outside of the current session"
   ]
  },
  {
   "cell_type": "markdown",
   "id": "303bff6d",
   "metadata": {
    "papermill": {
     "duration": 0.006629,
     "end_time": "2025-01-22T13:16:47.900218",
     "exception": false,
     "start_time": "2025-01-22T13:16:47.893589",
     "status": "completed"
    },
    "tags": []
   },
   "source": [
    "# Data Preprocessing"
   ]
  },
  {
   "cell_type": "code",
   "execution_count": 2,
   "id": "0250e865",
   "metadata": {
    "execution": {
     "iopub.execute_input": "2025-01-22T13:16:47.915636Z",
     "iopub.status.busy": "2025-01-22T13:16:47.915092Z",
     "iopub.status.idle": "2025-01-22T13:16:47.969269Z",
     "shell.execute_reply": "2025-01-22T13:16:47.967991Z"
    },
    "papermill": {
     "duration": 0.064249,
     "end_time": "2025-01-22T13:16:47.971472",
     "exception": false,
     "start_time": "2025-01-22T13:16:47.907223",
     "status": "completed"
    },
    "tags": []
   },
   "outputs": [
    {
     "name": "stdout",
     "output_type": "stream",
     "text": [
      "<class 'pandas.core.frame.DataFrame'>\n",
      "RangeIndex: 529 entries, 0 to 528\n",
      "Data columns (total 26 columns):\n",
      " #   Column                   Non-Null Count  Dtype  \n",
      "---  ------                   --------------  -----  \n",
      " 0   Age                      526 non-null    float64\n",
      " 1   HB (gm/dl)               529 non-null    float64\n",
      " 2   ESR(mm)                  529 non-null    float64\n",
      " 3   WBC(TC) (/cumm)          528 non-null    float64\n",
      " 4   Neutrophils (%)          529 non-null    int64  \n",
      " 5   lymphocytes (%)          529 non-null    int64  \n",
      " 6   Monocytes (%)            527 non-null    float64\n",
      " 7   Eosinophils (%)          527 non-null    float64\n",
      " 8   Cir Eosinophils (/cumm)  526 non-null    float64\n",
      " 9   RBC (m/ul)               527 non-null    float64\n",
      " 10  HTC/PCV (%)              529 non-null    float64\n",
      " 11  MCV (fl)                 526 non-null    float64\n",
      " 12  MCH (pg)                 528 non-null    float64\n",
      " 13  MCHC (g/dl)              529 non-null    float64\n",
      " 14  RDW  (%)                 528 non-null    float64\n",
      " 15  PDW (fl)                 529 non-null    float64\n",
      " 16  Platelete(PC)(/cumm)     527 non-null    float64\n",
      " 17  MPV (fl)                 528 non-null    float64\n",
      " 18  PCT (%)                  529 non-null    float64\n",
      " 19  Class Identification     529 non-null    object \n",
      " 20  Unnamed: 20              0 non-null      float64\n",
      " 21  Unnamed: 21              0 non-null      float64\n",
      " 22  Unnamed: 22              0 non-null      float64\n",
      " 23  Unnamed: 23              0 non-null      float64\n",
      " 24  Unnamed: 24              0 non-null      float64\n",
      " 25  Unnamed: 25              0 non-null      float64\n",
      "dtypes: float64(23), int64(2), object(1)\n",
      "memory usage: 107.6+ KB\n"
     ]
    }
   ],
   "source": [
    "df=pd.read_csv(\"/kaggle/input/neural-net-nexus/train.csv\")\n",
    "df.info()"
   ]
  },
  {
   "cell_type": "markdown",
   "id": "0a75bcc0",
   "metadata": {
    "papermill": {
     "duration": 0.006646,
     "end_time": "2025-01-22T13:16:47.985616",
     "exception": false,
     "start_time": "2025-01-22T13:16:47.978970",
     "status": "completed"
    },
    "tags": []
   },
   "source": [
    "## Clearing NULL values"
   ]
  },
  {
   "cell_type": "code",
   "execution_count": 3,
   "id": "869f0c86",
   "metadata": {
    "execution": {
     "iopub.execute_input": "2025-01-22T13:16:48.001272Z",
     "iopub.status.busy": "2025-01-22T13:16:48.000900Z",
     "iopub.status.idle": "2025-01-22T13:16:48.009433Z",
     "shell.execute_reply": "2025-01-22T13:16:48.008427Z"
    },
    "papermill": {
     "duration": 0.018409,
     "end_time": "2025-01-22T13:16:48.011216",
     "exception": false,
     "start_time": "2025-01-22T13:16:47.992807",
     "status": "completed"
    },
    "tags": []
   },
   "outputs": [
    {
     "data": {
      "text/plain": [
       "Age                          3\n",
       "HB (gm/dl)                   0\n",
       "ESR(mm)                      0\n",
       "WBC(TC) (/cumm)              1\n",
       "Neutrophils (%)              0\n",
       "lymphocytes (%)              0\n",
       "Monocytes (%)                2\n",
       "Eosinophils (%)              2\n",
       "Cir Eosinophils (/cumm)      3\n",
       "RBC (m/ul)                   2\n",
       "HTC/PCV (%)                  0\n",
       "MCV (fl)                     3\n",
       "MCH (pg)                     1\n",
       "MCHC (g/dl)                  0\n",
       "RDW  (%)                     1\n",
       "PDW (fl)                     0\n",
       "Platelete(PC)(/cumm)         2\n",
       "MPV (fl)                     1\n",
       "PCT (%)                      0\n",
       "Class Identification         0\n",
       "Unnamed: 20                529\n",
       "Unnamed: 21                529\n",
       "Unnamed: 22                529\n",
       "Unnamed: 23                529\n",
       "Unnamed: 24                529\n",
       "Unnamed: 25                529\n",
       "dtype: int64"
      ]
     },
     "execution_count": 3,
     "metadata": {},
     "output_type": "execute_result"
    }
   ],
   "source": [
    "df.isna().sum()\n"
   ]
  },
  {
   "cell_type": "markdown",
   "id": "40970d29",
   "metadata": {
    "papermill": {
     "duration": 0.007127,
     "end_time": "2025-01-22T13:16:48.026016",
     "exception": false,
     "start_time": "2025-01-22T13:16:48.018889",
     "status": "completed"
    },
    "tags": []
   },
   "source": [
    "Last 5 columns are unnecessary.So we can drop it."
   ]
  },
  {
   "cell_type": "code",
   "execution_count": 4,
   "id": "618e4398",
   "metadata": {
    "execution": {
     "iopub.execute_input": "2025-01-22T13:16:48.042310Z",
     "iopub.status.busy": "2025-01-22T13:16:48.041944Z",
     "iopub.status.idle": "2025-01-22T13:16:48.057118Z",
     "shell.execute_reply": "2025-01-22T13:16:48.055966Z"
    },
    "papermill": {
     "duration": 0.025041,
     "end_time": "2025-01-22T13:16:48.058806",
     "exception": false,
     "start_time": "2025-01-22T13:16:48.033765",
     "status": "completed"
    },
    "tags": []
   },
   "outputs": [
    {
     "name": "stdout",
     "output_type": "stream",
     "text": [
      "<class 'pandas.core.frame.DataFrame'>\n",
      "RangeIndex: 529 entries, 0 to 528\n",
      "Data columns (total 20 columns):\n",
      " #   Column                   Non-Null Count  Dtype  \n",
      "---  ------                   --------------  -----  \n",
      " 0   Age                      526 non-null    float64\n",
      " 1   HB (gm/dl)               529 non-null    float64\n",
      " 2   ESR(mm)                  529 non-null    float64\n",
      " 3   WBC(TC) (/cumm)          528 non-null    float64\n",
      " 4   Neutrophils (%)          529 non-null    int64  \n",
      " 5   lymphocytes (%)          529 non-null    int64  \n",
      " 6   Monocytes (%)            527 non-null    float64\n",
      " 7   Eosinophils (%)          527 non-null    float64\n",
      " 8   Cir Eosinophils (/cumm)  526 non-null    float64\n",
      " 9   RBC (m/ul)               527 non-null    float64\n",
      " 10  HTC/PCV (%)              529 non-null    float64\n",
      " 11  MCV (fl)                 526 non-null    float64\n",
      " 12  MCH (pg)                 528 non-null    float64\n",
      " 13  MCHC (g/dl)              529 non-null    float64\n",
      " 14  RDW  (%)                 528 non-null    float64\n",
      " 15  PDW (fl)                 529 non-null    float64\n",
      " 16  Platelete(PC)(/cumm)     527 non-null    float64\n",
      " 17  MPV (fl)                 528 non-null    float64\n",
      " 18  PCT (%)                  529 non-null    float64\n",
      " 19  Class Identification     529 non-null    object \n",
      "dtypes: float64(17), int64(2), object(1)\n",
      "memory usage: 82.8+ KB\n"
     ]
    }
   ],
   "source": [
    "df=df.drop([\"Unnamed: 20\",\"Unnamed: 21\",\"Unnamed: 22\",\"Unnamed: 23\",\"Unnamed: 24\",\"Unnamed: 25\"],axis=1)\n",
    "df.info()"
   ]
  },
  {
   "cell_type": "code",
   "execution_count": 5,
   "id": "9aee5f61",
   "metadata": {
    "execution": {
     "iopub.execute_input": "2025-01-22T13:16:48.075129Z",
     "iopub.status.busy": "2025-01-22T13:16:48.074662Z",
     "iopub.status.idle": "2025-01-22T13:16:48.085938Z",
     "shell.execute_reply": "2025-01-22T13:16:48.084956Z"
    },
    "papermill": {
     "duration": 0.021132,
     "end_time": "2025-01-22T13:16:48.087601",
     "exception": false,
     "start_time": "2025-01-22T13:16:48.066469",
     "status": "completed"
    },
    "tags": []
   },
   "outputs": [
    {
     "data": {
      "text/plain": [
       "Age                        0\n",
       "HB (gm/dl)                 0\n",
       "ESR(mm)                    0\n",
       "WBC(TC) (/cumm)            0\n",
       "Neutrophils (%)            0\n",
       "lymphocytes (%)            0\n",
       "Monocytes (%)              0\n",
       "Eosinophils (%)            0\n",
       "Cir Eosinophils (/cumm)    0\n",
       "RBC (m/ul)                 0\n",
       "HTC/PCV (%)                0\n",
       "MCV (fl)                   0\n",
       "MCH (pg)                   0\n",
       "MCHC (g/dl)                0\n",
       "RDW  (%)                   0\n",
       "PDW (fl)                   0\n",
       "Platelete(PC)(/cumm)       0\n",
       "MPV (fl)                   0\n",
       "PCT (%)                    0\n",
       "Class Identification       0\n",
       "dtype: int64"
      ]
     },
     "execution_count": 5,
     "metadata": {},
     "output_type": "execute_result"
    }
   ],
   "source": [
    "df=df.dropna()\n",
    "df.isna().sum()"
   ]
  },
  {
   "cell_type": "code",
   "execution_count": 6,
   "id": "0c955f4c",
   "metadata": {
    "execution": {
     "iopub.execute_input": "2025-01-22T13:16:48.103805Z",
     "iopub.status.busy": "2025-01-22T13:16:48.103428Z",
     "iopub.status.idle": "2025-01-22T13:16:48.109584Z",
     "shell.execute_reply": "2025-01-22T13:16:48.108722Z"
    },
    "papermill": {
     "duration": 0.015982,
     "end_time": "2025-01-22T13:16:48.111224",
     "exception": false,
     "start_time": "2025-01-22T13:16:48.095242",
     "status": "completed"
    },
    "tags": []
   },
   "outputs": [
    {
     "data": {
      "text/plain": [
       "array(['Negative', 'Positive', 'Abnormal', 'Normal'], dtype=object)"
      ]
     },
     "execution_count": 6,
     "metadata": {},
     "output_type": "execute_result"
    }
   ],
   "source": [
    "df[\"Class Identification\"].unique()"
   ]
  },
  {
   "cell_type": "markdown",
   "id": "69086d93",
   "metadata": {
    "papermill": {
     "duration": 0.007018,
     "end_time": "2025-01-22T13:16:48.125768",
     "exception": false,
     "start_time": "2025-01-22T13:16:48.118750",
     "status": "completed"
    },
    "tags": []
   },
   "source": [
    "## Cleaning Output Features"
   ]
  },
  {
   "cell_type": "markdown",
   "id": "ed372406",
   "metadata": {
    "papermill": {
     "duration": 0.007,
     "end_time": "2025-01-22T13:16:48.140357",
     "exception": false,
     "start_time": "2025-01-22T13:16:48.133357",
     "status": "completed"
    },
    "tags": []
   },
   "source": [
    "From the above output it is clear that \"Class Identification\" column contains 4 labels.But we need only 2 labels(Positive and Negative).This can be acheived by changing 'Normal' to 'Negative' and 'Abnormal' to 'Positive'."
   ]
  },
  {
   "cell_type": "code",
   "execution_count": 7,
   "id": "04533aaa",
   "metadata": {
    "execution": {
     "iopub.execute_input": "2025-01-22T13:16:48.156200Z",
     "iopub.status.busy": "2025-01-22T13:16:48.155809Z",
     "iopub.status.idle": "2025-01-22T13:16:48.166934Z",
     "shell.execute_reply": "2025-01-22T13:16:48.165886Z"
    },
    "papermill": {
     "duration": 0.020738,
     "end_time": "2025-01-22T13:16:48.168466",
     "exception": false,
     "start_time": "2025-01-22T13:16:48.147728",
     "status": "completed"
    },
    "tags": []
   },
   "outputs": [
    {
     "name": "stdout",
     "output_type": "stream",
     "text": [
      "Class Identification\n",
      "0    370\n",
      "1    139\n",
      "Name: count, dtype: int64\n"
     ]
    }
   ],
   "source": [
    "# Replace 'Normal' with 'Negative' and 'Abnormal' with 'Positive'\n",
    "df[\"Class Identification\"] = df[\"Class Identification\"].replace({\n",
    "    'Normal': 'Negative',\n",
    "    'Abnormal': 'Positive'\n",
    "})\n",
    "\n",
    "# Use LabelEncoder to encode 'Positive' as 1 and 'Negative' as 0\n",
    "label_encoder = LabelEncoder()\n",
    "df['Class Identification'] = label_encoder.fit_transform(df['Class Identification'])\n",
    "\n",
    "# Verify the changes\n",
    "print(df['Class Identification'].value_counts())"
   ]
  },
  {
   "cell_type": "markdown",
   "id": "9d2da191",
   "metadata": {
    "papermill": {
     "duration": 0.007019,
     "end_time": "2025-01-22T13:16:48.183114",
     "exception": false,
     "start_time": "2025-01-22T13:16:48.176095",
     "status": "completed"
    },
    "tags": []
   },
   "source": [
    "## Feature Selection and Scaling"
   ]
  },
  {
   "cell_type": "code",
   "execution_count": 8,
   "id": "ce933850",
   "metadata": {
    "execution": {
     "iopub.execute_input": "2025-01-22T13:16:48.213478Z",
     "iopub.status.busy": "2025-01-22T13:16:48.213123Z",
     "iopub.status.idle": "2025-01-22T13:16:48.220101Z",
     "shell.execute_reply": "2025-01-22T13:16:48.219083Z"
    },
    "papermill": {
     "duration": 0.016862,
     "end_time": "2025-01-22T13:16:48.221721",
     "exception": false,
     "start_time": "2025-01-22T13:16:48.204859",
     "status": "completed"
    },
    "tags": []
   },
   "outputs": [
    {
     "data": {
      "text/plain": [
       "(509,)"
      ]
     },
     "execution_count": 8,
     "metadata": {},
     "output_type": "execute_result"
    }
   ],
   "source": [
    "y = df['Class Identification']\n",
    "x = df.drop(columns=['Class Identification']).values\n",
    "y.shape\n"
   ]
  },
  {
   "cell_type": "code",
   "execution_count": 9,
   "id": "693f2586",
   "metadata": {
    "execution": {
     "iopub.execute_input": "2025-01-22T13:16:48.238155Z",
     "iopub.status.busy": "2025-01-22T13:16:48.237759Z",
     "iopub.status.idle": "2025-01-22T13:16:48.258552Z",
     "shell.execute_reply": "2025-01-22T13:16:48.257629Z"
    },
    "papermill": {
     "duration": 0.030969,
     "end_time": "2025-01-22T13:16:48.260421",
     "exception": false,
     "start_time": "2025-01-22T13:16:48.229452",
     "status": "completed"
    },
    "tags": []
   },
   "outputs": [],
   "source": [
    "scaler = StandardScaler()\n",
    "x_scaled = scaler.fit_transform(x)"
   ]
  },
  {
   "cell_type": "markdown",
   "id": "199ced40",
   "metadata": {
    "papermill": {
     "duration": 0.007151,
     "end_time": "2025-01-22T13:16:48.275388",
     "exception": false,
     "start_time": "2025-01-22T13:16:48.268237",
     "status": "completed"
    },
    "tags": []
   },
   "source": [
    "# Training the Model"
   ]
  },
  {
   "cell_type": "code",
   "execution_count": 10,
   "id": "0b783766",
   "metadata": {
    "execution": {
     "iopub.execute_input": "2025-01-22T13:16:48.291782Z",
     "iopub.status.busy": "2025-01-22T13:16:48.291394Z",
     "iopub.status.idle": "2025-01-22T13:16:48.405432Z",
     "shell.execute_reply": "2025-01-22T13:16:48.404283Z"
    },
    "papermill": {
     "duration": 0.124853,
     "end_time": "2025-01-22T13:16:48.407776",
     "exception": false,
     "start_time": "2025-01-22T13:16:48.282923",
     "status": "completed"
    },
    "tags": []
   },
   "outputs": [],
   "source": [
    "from sklearn.model_selection import train_test_split\n",
    "from sklearn.metrics import roc_auc_score\n",
    "X_train, X_val, y_train, y_val = train_test_split(x_scaled, y, test_size=0.2, random_state=42)\n"
   ]
  },
  {
   "cell_type": "markdown",
   "id": "bc0c879d",
   "metadata": {
    "papermill": {
     "duration": 0.007588,
     "end_time": "2025-01-22T13:16:48.423991",
     "exception": false,
     "start_time": "2025-01-22T13:16:48.416403",
     "status": "completed"
    },
    "tags": []
   },
   "source": [
    "## SVM"
   ]
  },
  {
   "cell_type": "code",
   "execution_count": 11,
   "id": "e65e83c4",
   "metadata": {
    "execution": {
     "iopub.execute_input": "2025-01-22T13:16:48.440444Z",
     "iopub.status.busy": "2025-01-22T13:16:48.440090Z",
     "iopub.status.idle": "2025-01-22T13:16:48.553629Z",
     "shell.execute_reply": "2025-01-22T13:16:48.552781Z"
    },
    "papermill": {
     "duration": 0.123949,
     "end_time": "2025-01-22T13:16:48.555564",
     "exception": false,
     "start_time": "2025-01-22T13:16:48.431615",
     "status": "completed"
    },
    "tags": []
   },
   "outputs": [],
   "source": [
    "from sklearn import svm\n",
    "from sklearn.model_selection import cross_val_score"
   ]
  },
  {
   "cell_type": "code",
   "execution_count": 12,
   "id": "8233a20a",
   "metadata": {
    "execution": {
     "iopub.execute_input": "2025-01-22T13:16:48.572279Z",
     "iopub.status.busy": "2025-01-22T13:16:48.571930Z",
     "iopub.status.idle": "2025-01-22T13:16:48.596647Z",
     "shell.execute_reply": "2025-01-22T13:16:48.595463Z"
    },
    "papermill": {
     "duration": 0.034975,
     "end_time": "2025-01-22T13:16:48.598471",
     "exception": false,
     "start_time": "2025-01-22T13:16:48.563496",
     "status": "completed"
    },
    "tags": []
   },
   "outputs": [
    {
     "name": "stdout",
     "output_type": "stream",
     "text": [
      "0.7801133679735474\n"
     ]
    }
   ],
   "source": [
    "model=svm.SVC(class_weight=\"balanced\",kernel='rbf')\n",
    "model.fit(X_train,y_train)\n",
    "print(roc_auc_score(y_val,model.predict(X_val)))"
   ]
  },
  {
   "cell_type": "markdown",
   "id": "3913f734",
   "metadata": {
    "papermill": {
     "duration": 0.007201,
     "end_time": "2025-01-22T13:16:48.613527",
     "exception": false,
     "start_time": "2025-01-22T13:16:48.606326",
     "status": "completed"
    },
    "tags": []
   },
   "source": [
    "## Logistic Regression"
   ]
  },
  {
   "cell_type": "code",
   "execution_count": 13,
   "id": "57e0ff01",
   "metadata": {
    "execution": {
     "iopub.execute_input": "2025-01-22T13:16:48.630022Z",
     "iopub.status.busy": "2025-01-22T13:16:48.629593Z",
     "iopub.status.idle": "2025-01-22T13:16:48.633881Z",
     "shell.execute_reply": "2025-01-22T13:16:48.632875Z"
    },
    "papermill": {
     "duration": 0.01439,
     "end_time": "2025-01-22T13:16:48.635565",
     "exception": false,
     "start_time": "2025-01-22T13:16:48.621175",
     "status": "completed"
    },
    "tags": []
   },
   "outputs": [],
   "source": [
    "from sklearn.linear_model import LogisticRegression"
   ]
  },
  {
   "cell_type": "code",
   "execution_count": 14,
   "id": "100d96d8",
   "metadata": {
    "execution": {
     "iopub.execute_input": "2025-01-22T13:16:48.652208Z",
     "iopub.status.busy": "2025-01-22T13:16:48.651800Z",
     "iopub.status.idle": "2025-01-22T13:16:48.685129Z",
     "shell.execute_reply": "2025-01-22T13:16:48.683770Z"
    },
    "papermill": {
     "duration": 0.043642,
     "end_time": "2025-01-22T13:16:48.686953",
     "exception": false,
     "start_time": "2025-01-22T13:16:48.643311",
     "status": "completed"
    },
    "tags": []
   },
   "outputs": [
    {
     "name": "stdout",
     "output_type": "stream",
     "text": [
      "0.6905999055266887\n"
     ]
    }
   ],
   "source": [
    "model_1=LogisticRegression(class_weight=\"balanced\")\n",
    "model_1.fit(X_train,y_train)\n",
    "\n",
    "#y_prob = model.predict_proba(X_val)[:, 1]\n",
    "print(roc_auc_score(y_val,model_1.predict(X_val)))"
   ]
  },
  {
   "cell_type": "markdown",
   "id": "658b46ee",
   "metadata": {
    "papermill": {
     "duration": 0.007208,
     "end_time": "2025-01-22T13:16:48.701839",
     "exception": false,
     "start_time": "2025-01-22T13:16:48.694631",
     "status": "completed"
    },
    "tags": []
   },
   "source": [
    "## Neural Network"
   ]
  },
  {
   "cell_type": "code",
   "execution_count": 15,
   "id": "d5cad399",
   "metadata": {
    "execution": {
     "iopub.execute_input": "2025-01-22T13:16:48.718268Z",
     "iopub.status.busy": "2025-01-22T13:16:48.717859Z",
     "iopub.status.idle": "2025-01-22T13:17:03.779967Z",
     "shell.execute_reply": "2025-01-22T13:17:03.778983Z"
    },
    "papermill": {
     "duration": 15.072508,
     "end_time": "2025-01-22T13:17:03.781962",
     "exception": false,
     "start_time": "2025-01-22T13:16:48.709454",
     "status": "completed"
    },
    "tags": []
   },
   "outputs": [],
   "source": [
    "import tensorflow as tf\n",
    "from tensorflow import keras\n",
    "\n",
    "import matplotlib.pyplot as plt\n",
    "\n",
    "def plot_history(history):\n",
    "    # Plot training & validation loss values\n",
    "    plt.figure(figsize=(12,4))\n",
    "    plt.subplot(1,2,1)\n",
    "    plt.plot(history.history['loss'])\n",
    "    plt.plot(history.history['val_loss'])\n",
    "    plt.title('Model loss')\n",
    "    plt.ylabel('Loss')\n",
    "    plt.xlabel('Epoch')\n",
    "    plt.legend(['Train', 'Validation'], loc='upper right')\n",
    "\n",
    "    # Plot training & validation accuracy values\n",
    "    plt.subplot(1,2,2)\n",
    "    plt.plot(history.history['accuracy'])\n",
    "    plt.plot(history.history['val_accuracy'])\n",
    "    plt.title('Model accuracy')\n",
    "    plt.ylabel('Accuracy')\n",
    "    plt.xlabel('Epoch')\n",
    "    plt.legend(['Train', 'Validation'], loc='lower right')\n",
    "    plt.show()"
   ]
  },
  {
   "cell_type": "code",
   "execution_count": 16,
   "id": "237a09b0",
   "metadata": {
    "execution": {
     "iopub.execute_input": "2025-01-22T13:17:03.799380Z",
     "iopub.status.busy": "2025-01-22T13:17:03.798767Z",
     "iopub.status.idle": "2025-01-22T13:17:03.874719Z",
     "shell.execute_reply": "2025-01-22T13:17:03.873409Z"
    },
    "papermill": {
     "duration": 0.086299,
     "end_time": "2025-01-22T13:17:03.876495",
     "exception": false,
     "start_time": "2025-01-22T13:17:03.790196",
     "status": "completed"
    },
    "tags": []
   },
   "outputs": [],
   "source": [
    "early_stopping = tf.keras.callbacks.EarlyStopping(\n",
    "    monitor='val_loss',\n",
    "    patience=5, \n",
    "    restore_best_weights=True, \n",
    "    min_delta = 0.0001 \n",
    ")"
   ]
  },
  {
   "cell_type": "code",
   "execution_count": 17,
   "id": "cc4079db",
   "metadata": {
    "execution": {
     "iopub.execute_input": "2025-01-22T13:17:03.893878Z",
     "iopub.status.busy": "2025-01-22T13:17:03.893443Z",
     "iopub.status.idle": "2025-01-22T13:17:11.148896Z",
     "shell.execute_reply": "2025-01-22T13:17:11.147650Z"
    },
    "papermill": {
     "duration": 7.266109,
     "end_time": "2025-01-22T13:17:11.150891",
     "exception": false,
     "start_time": "2025-01-22T13:17:03.884782",
     "status": "completed"
    },
    "tags": []
   },
   "outputs": [
    {
     "data": {
      "image/png": "[encoded data removed]",
      "text/plain": [
       "<Figure size 1200x400 with 2 Axes>"
      ]
     },
     "metadata": {},
     "output_type": "display_data"
    }
   ],
   "source": [
    "model_regularized = tf.keras.Sequential([\n",
    "    tf.keras.layers.Input((X_train.shape[1],)),\n",
    "    tf.keras.layers.Dense(200, activation='relu',\n",
    "                         kernel_regularizer=tf.keras.regularizers.l2(0.01)),\n",
    "    tf.keras.layers.BatchNormalization(),\n",
    "    tf.keras.layers.Dropout(0.5),\n",
    "    tf.keras.layers.Dense(200, activation='relu',\n",
    "                         kernel_regularizer=tf.keras.regularizers.l2(0.01)),\n",
    "     tf.keras.layers.BatchNormalization(),\n",
    "    tf.keras.layers.Dense(1,activation=\"sigmoid\")\n",
    "])\n",
    "model_regularized.compile(optimizer=\"adam\",\n",
    "    loss=\"binary_crossentropy\",\n",
    "    metrics=[\"accuracy\"])\n",
    "history = model_regularized.fit(X_train, y_train,\n",
    "                      validation_data=(X_val, y_val),\n",
    "                      epochs=100,\n",
    "                     callbacks=[early_stopping],\n",
    "                      verbose=0)\n",
    "\n",
    "plot_history(history)"
   ]
  },
  {
   "cell_type": "markdown",
   "id": "3a627ada",
   "metadata": {},
   "source": [
    "Here we can see the training accuracy is around 0.95 and validation(test) accuracy is around 0.85"
   ]
  },
  {
   "cell_type": "code",
   "execution_count": 18,
   "id": "8c0847da",
   "metadata": {
    "execution": {
     "iopub.execute_input": "2025-01-22T13:17:11.170659Z",
     "iopub.status.busy": "2025-01-22T13:17:11.170300Z",
     "iopub.status.idle": "2025-01-22T13:17:11.391668Z",
     "shell.execute_reply": "2025-01-22T13:17:11.390519Z"
    },
    "papermill": {
     "duration": 0.233428,
     "end_time": "2025-01-22T13:17:11.393654",
     "exception": false,
     "start_time": "2025-01-22T13:17:11.160226",
     "status": "completed"
    },
    "scrolled": true,
    "tags": []
   },
   "outputs": [
    {
     "name": "stdout",
     "output_type": "stream",
     "text": [
      "\u001b[1m4/4\u001b[0m \u001b[32m━━━━━━━━━━━━━━━━━━━━\u001b[0m\u001b[37m\u001b[0m \u001b[1m0s\u001b[0m 24ms/step\n"
     ]
    }
   ],
   "source": [
    "y_pred=model_regularized.predict(X_val)\n"
   ]
  },
  {
   "cell_type": "code",
   "execution_count": 19,
   "id": "cae85fc7",
   "metadata": {
    "execution": {
     "iopub.execute_input": "2025-01-22T13:17:11.414306Z",
     "iopub.status.busy": "2025-01-22T13:17:11.413924Z",
     "iopub.status.idle": "2025-01-22T13:17:11.422314Z",
     "shell.execute_reply": "2025-01-22T13:17:11.421252Z"
    },
    "papermill": {
     "duration": 0.020626,
     "end_time": "2025-01-22T13:17:11.423934",
     "exception": false,
     "start_time": "2025-01-22T13:17:11.403308",
     "status": "completed"
    },
    "tags": []
   },
   "outputs": [
    {
     "name": "stdout",
     "output_type": "stream",
     "text": [
      "0.8615965989607937\n"
     ]
    }
   ],
   "source": [
    "print(roc_auc_score(y_val,y_pred))"
   ]
  },
  {
   "cell_type": "markdown",
   "id": "06afe29e",
   "metadata": {
    "papermill": {
     "duration": 0.009142,
     "end_time": "2025-01-22T13:17:11.443201",
     "exception": false,
     "start_time": "2025-01-22T13:17:11.434059",
     "status": "completed"
    },
    "tags": []
   },
   "source": [
    "## RandomForestClassifier"
   ]
  },
  {
   "cell_type": "code",
   "execution_count": 20,
   "id": "6f0df821",
   "metadata": {
    "execution": {
     "iopub.execute_input": "2025-01-22T13:17:11.463416Z",
     "iopub.status.busy": "2025-01-22T13:17:11.463033Z",
     "iopub.status.idle": "2025-01-22T13:17:12.106500Z",
     "shell.execute_reply": "2025-01-22T13:17:12.105421Z"
    },
    "papermill": {
     "duration": 0.655709,
     "end_time": "2025-01-22T13:17:12.108382",
     "exception": false,
     "start_time": "2025-01-22T13:17:11.452673",
     "status": "completed"
    },
    "scrolled": true,
    "tags": []
   },
   "outputs": [
    {
     "data": {
      "text/html": [
       "<style>#sk-container-id-1 {color: black;background-color: white;}#sk-container-id-1 pre{padding: 0;}#sk-container-id-1 div.sk-toggleable {background-color: white;}#sk-container-id-1 label.sk-toggleable__label {cursor: pointer;display: block;width: 100%;margin-bottom: 0;padding: 0.3em;box-sizing: border-box;text-align: center;}#sk-container-id-1 label.sk-toggleable__label-arrow:before {content: \"▸\";float: left;margin-right: 0.25em;color: #696969;}#sk-container-id-1 label.sk-toggleable__label-arrow:hover:before {color: black;}#sk-container-id-1 div.sk-estimator:hover label.sk-toggleable__label-arrow:before {color: black;}#sk-container-id-1 div.sk-toggleable__content {max-height: 0;max-width: 0;overflow: hidden;text-align: left;background-color: #f0f8ff;}#sk-container-id-1 div.sk-toggleable__content pre {margin: 0.2em;color: black;border-radius: 0.25em;background-color: #f0f8ff;}#sk-container-id-1 input.sk-toggleable__control:checked~div.sk-toggleable__content {max-height: 200px;max-width: 100%;overflow: auto;}#sk-container-id-1 input.sk-toggleable__control:checked~label.sk-toggleable__label-arrow:before {content: \"▾\";}#sk-container-id-1 div.sk-estimator input.sk-toggleable__control:checked~label.sk-toggleable__label {background-color: #d4ebff;}#sk-container-id-1 div.sk-label input.sk-toggleable__control:checked~label.sk-toggleable__label {background-color: #d4ebff;}#sk-container-id-1 input.sk-hidden--visually {border: 0;clip: rect(1px 1px 1px 1px);clip: rect(1px, 1px, 1px, 1px);height: 1px;margin: -1px;overflow: hidden;padding: 0;position: absolute;width: 1px;}#sk-container-id-1 div.sk-estimator {font-family: monospace;background-color: #f0f8ff;border: 1px dotted black;border-radius: 0.25em;box-sizing: border-box;margin-bottom: 0.5em;}#sk-container-id-1 div.sk-estimator:hover {background-color: #d4ebff;}#sk-container-id-1 div.sk-parallel-item::after {content: \"\";width: 100%;border-bottom: 1px solid gray;flex-grow: 1;}#sk-container-id-1 div.sk-label:hover label.sk-toggleable__label {background-color: #d4ebff;}#sk-container-id-1 div.sk-serial::before {content: \"\";position: absolute;border-left: 1px solid gray;box-sizing: border-box;top: 0;bottom: 0;left: 50%;z-index: 0;}#sk-container-id-1 div.sk-serial {display: flex;flex-direction: column;align-items: center;background-color: white;padding-right: 0.2em;padding-left: 0.2em;position: relative;}#sk-container-id-1 div.sk-item {position: relative;z-index: 1;}#sk-container-id-1 div.sk-parallel {display: flex;align-items: stretch;justify-content: center;background-color: white;position: relative;}#sk-container-id-1 div.sk-item::before, #sk-container-id-1 div.sk-parallel-item::before {content: \"\";position: absolute;border-left: 1px solid gray;box-sizing: border-box;top: 0;bottom: 0;left: 50%;z-index: -1;}#sk-container-id-1 div.sk-parallel-item {display: flex;flex-direction: column;z-index: 1;position: relative;background-color: white;}#sk-container-id-1 div.sk-parallel-item:first-child::after {align-self: flex-end;width: 50%;}#sk-container-id-1 div.sk-parallel-item:last-child::after {align-self: flex-start;width: 50%;}#sk-container-id-1 div.sk-parallel-item:only-child::after {width: 0;}#sk-container-id-1 div.sk-dashed-wrapped {border: 1px dashed gray;margin: 0 0.4em 0.5em 0.4em;box-sizing: border-box;padding-bottom: 0.4em;background-color: white;}#sk-container-id-1 div.sk-label label {font-family: monospace;font-weight: bold;display: inline-block;line-height: 1.2em;}#sk-container-id-1 div.sk-label-container {text-align: center;}#sk-container-id-1 div.sk-container {/* jupyter's `normalize.less` sets `[hidden] { display: none; }` but bootstrap.min.css set `[hidden] { display: none !important; }` so we also need the `!important` here to be able to override the default hidden behavior on the sphinx rendered scikit-learn.org. See: https://github.com/scikit-learn/scikit-learn/issues/21755 */display: inline-block !important;position: relative;}#sk-container-id-1 div.sk-text-repr-fallback {display: none;}</style><div id=\"sk-container-id-1\" class=\"sk-top-container\"><div class=\"sk-text-repr-fallback\"><pre>RandomForestClassifier(n_estimators=150, random_state=42)</pre><b>In a Jupyter environment, please rerun this cell to show the HTML representation or trust the notebook. <br />On GitHub, the HTML representation is unable to render, please try loading this page with nbviewer.org.</b></div><div class=\"sk-container\" hidden><div class=\"sk-item\"><div class=\"sk-estimator sk-toggleable\"><input class=\"sk-toggleable__control sk-hidden--visually\" id=\"sk-estimator-id-1\" type=\"checkbox\" checked><label for=\"sk-estimator-id-1\" class=\"sk-toggleable__label sk-toggleable__label-arrow\">RandomForestClassifier</label><div class=\"sk-toggleable__content\"><pre>RandomForestClassifier(n_estimators=150, random_state=42)</pre></div></div></div></div></div>"
      ],
      "text/plain": [
       "RandomForestClassifier(n_estimators=150, random_state=42)"
      ]
     },
     "execution_count": 20,
     "metadata": {},
     "output_type": "execute_result"
    }
   ],
   "source": [
    "from sklearn.ensemble import RandomForestClassifier\n",
    "from sklearn.metrics import classification_report\n",
    "\n",
    "rf_model=RandomForestClassifier(n_estimators=150,random_state=42)\n",
    "rf_model.fit(X_train,y_train)\n",
    "\n"
   ]
  },
  {
   "cell_type": "markdown",
   "id": "5143828f",
   "metadata": {},
   "source": [
    "## Result"
   ]
  },
  {
   "cell_type": "markdown",
   "id": "932e5661",
   "metadata": {},
   "source": [
    "From the above training results we can see that neural network model has a higher roc-auc score. Hence we will be using that model for testing."
   ]
  },
  {
   "cell_type": "markdown",
   "id": "5f5355d0",
   "metadata": {
    "papermill": {
     "duration": 0.009166,
     "end_time": "2025-01-22T13:17:12.127414",
     "exception": false,
     "start_time": "2025-01-22T13:17:12.118248",
     "status": "completed"
    },
    "tags": []
   },
   "source": [
    "## Testing on TestSet"
   ]
  },
  {
   "cell_type": "code",
   "execution_count": 21,
   "id": "3f281d91",
   "metadata": {
    "execution": {
     "iopub.execute_input": "2025-01-22T13:17:12.147581Z",
     "iopub.status.busy": "2025-01-22T13:17:12.147239Z",
     "iopub.status.idle": "2025-01-22T13:17:12.163513Z",
     "shell.execute_reply": "2025-01-22T13:17:12.162493Z"
    },
    "papermill": {
     "duration": 0.028449,
     "end_time": "2025-01-22T13:17:12.165344",
     "exception": false,
     "start_time": "2025-01-22T13:17:12.136895",
     "status": "completed"
    },
    "tags": []
   },
   "outputs": [
    {
     "data": {
      "text/plain": [
       "Age                        0\n",
       "HB (gm/dl)                 0\n",
       "ESR(mm)                    2\n",
       "WBC(TC) (/cumm)            0\n",
       "Neutrophils (%)            0\n",
       "lymphocytes (%)            0\n",
       "Monocytes (%)              0\n",
       "Eosinophils (%)            0\n",
       "Cir Eosinophils (/cumm)    0\n",
       "RBC (m/ul)                 0\n",
       "HTC/PCV (%)                0\n",
       "MCV (fl)                   0\n",
       "MCH (pg)                   0\n",
       "MCHC (g/dl)                0\n",
       "RDW  (%)                   0\n",
       "PDW (fl)                   1\n",
       "Platelete(PC)(/cumm)       0\n",
       "MPV (fl)                   0\n",
       "PCT (%)                    0\n",
       "dtype: int64"
      ]
     },
     "execution_count": 21,
     "metadata": {},
     "output_type": "execute_result"
    }
   ],
   "source": [
    "test_df=pd.read_csv(\"/kaggle/input/neural-net-nexus/test.csv\")\n",
    "test_df.isna().sum()\n"
   ]
  },
  {
   "cell_type": "code",
   "execution_count": 22,
   "id": "2774aa5a",
   "metadata": {
    "execution": {
     "iopub.execute_input": "2025-01-22T13:17:12.186180Z",
     "iopub.status.busy": "2025-01-22T13:17:12.185794Z",
     "iopub.status.idle": "2025-01-22T13:17:12.193328Z",
     "shell.execute_reply": "2025-01-22T13:17:12.192158Z"
    },
    "papermill": {
     "duration": 0.019945,
     "end_time": "2025-01-22T13:17:12.195199",
     "exception": false,
     "start_time": "2025-01-22T13:17:12.175254",
     "status": "completed"
    },
    "tags": []
   },
   "outputs": [
    {
     "name": "stderr",
     "output_type": "stream",
     "text": [
      "<ipython-input-22-d367867c7428>:1: FutureWarning: A value is trying to be set on a copy of a DataFrame or Series through chained assignment using an inplace method.\n",
      "The behavior will change in pandas 3.0. This inplace method will never work because the intermediate object on which we are setting values always behaves as a copy.\n",
      "\n",
      "For example, when doing 'df[col].method(value, inplace=True)', try using 'df.method({col: value}, inplace=True)' or df[col] = df[col].method(value) instead, to perform the operation inplace on the original object.\n",
      "\n",
      "\n",
      "  test_df['ESR(mm)'].fillna(df['ESR(mm)'].mean(),inplace=True)\n",
      "<ipython-input-22-d367867c7428>:2: FutureWarning: A value is trying to be set on a copy of a DataFrame or Series through chained assignment using an inplace method.\n",
      "The behavior will change in pandas 3.0. This inplace method will never work because the intermediate object on which we are setting values always behaves as a copy.\n",
      "\n",
      "For example, when doing 'df[col].method(value, inplace=True)', try using 'df.method({col: value}, inplace=True)' or df[col] = df[col].method(value) instead, to perform the operation inplace on the original object.\n",
      "\n",
      "\n",
      "  test_df['PDW (fl)'].fillna(df['PDW (fl)'].mean(),inplace=True)\n"
     ]
    }
   ],
   "source": [
    "test_df['ESR(mm)'].fillna(df['ESR(mm)'].mean(),inplace=True)\n",
    "test_df['PDW (fl)'].fillna(df['PDW (fl)'].mean(),inplace=True)"
   ]
  },
  {
   "cell_type": "code",
   "execution_count": 23,
   "id": "ef85461d",
   "metadata": {
    "execution": {
     "iopub.execute_input": "2025-01-22T13:17:12.216521Z",
     "iopub.status.busy": "2025-01-22T13:17:12.216180Z",
     "iopub.status.idle": "2025-01-22T13:17:12.222074Z",
     "shell.execute_reply": "2025-01-22T13:17:12.220802Z"
    },
    "papermill": {
     "duration": 0.018213,
     "end_time": "2025-01-22T13:17:12.223564",
     "exception": false,
     "start_time": "2025-01-22T13:17:12.205351",
     "status": "completed"
    },
    "tags": []
   },
   "outputs": [
    {
     "name": "stdout",
     "output_type": "stream",
     "text": [
      "(100, 19)\n"
     ]
    }
   ],
   "source": [
    "x_test=test_df.values\n",
    "print(x_test.shape)\n",
    "x_test=scaler.transform(x_test)"
   ]
  },
  {
   "cell_type": "code",
   "execution_count": 24,
   "id": "cd1e0b8e",
   "metadata": {
    "execution": {
     "iopub.execute_input": "2025-01-22T13:17:12.245205Z",
     "iopub.status.busy": "2025-01-22T13:17:12.244780Z",
     "iopub.status.idle": "2025-01-22T13:17:12.329595Z",
     "shell.execute_reply": "2025-01-22T13:17:12.328494Z"
    },
    "papermill": {
     "duration": 0.097513,
     "end_time": "2025-01-22T13:17:12.331314",
     "exception": false,
     "start_time": "2025-01-22T13:17:12.233801",
     "status": "completed"
    },
    "scrolled": true,
    "tags": []
   },
   "outputs": [
    {
     "name": "stdout",
     "output_type": "stream",
     "text": [
      "\u001b[1m4/4\u001b[0m \u001b[32m━━━━━━━━━━━━━━━━━━━━\u001b[0m\u001b[37m\u001b[0m \u001b[1m0s\u001b[0m 2ms/step \n"
     ]
    },
    {
     "data": {
      "text/plain": [
       "array([[5.2455873e-03],\n",
       "       [1.1008963e-02],\n",
       "       [9.6464716e-03],\n",
       "       [1.7953651e-02],\n",
       "       [7.5928196e-03],\n",
       "       [2.2100680e-02],\n",
       "       [1.2581631e-02],\n",
       "       [3.5532459e-05],\n",
       "       [7.2717763e-02],\n",
       "       [2.5340421e-02],\n",
       "       [1.4236601e-04],\n",
       "       [1.1384805e-02],\n",
       "       [6.0409736e-02],\n",
       "       [7.5580818e-03],\n",
       "       [8.8118284e-04],\n",
       "       [5.0408381e-01],\n",
       "       [4.6955124e-02],\n",
       "       [5.2611860e-03],\n",
       "       [6.4983354e-03],\n",
       "       [9.0396899e-04],\n",
       "       [2.7225222e-02],\n",
       "       [1.5259378e-04],\n",
       "       [9.9823344e-03],\n",
       "       [6.3442858e-04],\n",
       "       [7.9297192e-02],\n",
       "       [1.6897896e-02],\n",
       "       [7.2971664e-02],\n",
       "       [3.9902274e-02],\n",
       "       [9.3238981e-04],\n",
       "       [6.3508637e-02],\n",
       "       [3.0375892e-02],\n",
       "       [3.0976962e-02],\n",
       "       [2.1638060e-02],\n",
       "       [1.6046403e-02],\n",
       "       [2.8649464e-02],\n",
       "       [6.4949284e-04],\n",
       "       [9.9202693e-02],\n",
       "       [1.4517725e-01],\n",
       "       [1.6788179e-02],\n",
       "       [2.3167247e-02],\n",
       "       [2.0229718e-02],\n",
       "       [7.4893120e-05],\n",
       "       [1.7534340e-03],\n",
       "       [1.5342976e-01],\n",
       "       [1.8706487e-02],\n",
       "       [7.8344774e-03],\n",
       "       [5.8917357e-03],\n",
       "       [7.1297502e-03],\n",
       "       [1.0173824e-02],\n",
       "       [4.4847382e-03],\n",
       "       [2.7705999e-03],\n",
       "       [2.1750331e-03],\n",
       "       [3.1694781e-02],\n",
       "       [5.5471947e-04],\n",
       "       [9.3691014e-03],\n",
       "       [2.5620049e-01],\n",
       "       [4.4017984e-04],\n",
       "       [8.9206891e-03],\n",
       "       [1.5699001e-06],\n",
       "       [4.4017984e-04],\n",
       "       [6.3532771e-04],\n",
       "       [1.0242435e-03],\n",
       "       [8.6872377e-02],\n",
       "       [1.0568412e-02],\n",
       "       [1.4075816e-03],\n",
       "       [8.7644043e-04],\n",
       "       [8.2804011e-03],\n",
       "       [1.6863434e-05],\n",
       "       [5.4684613e-02],\n",
       "       [7.2837062e-04],\n",
       "       [5.4393811e-03],\n",
       "       [2.7681047e-02],\n",
       "       [6.3102785e-03],\n",
       "       [1.0305720e-01],\n",
       "       [1.1227753e-02],\n",
       "       [9.5332921e-01],\n",
       "       [1.5726566e-04],\n",
       "       [4.7440919e-01],\n",
       "       [6.4768136e-01],\n",
       "       [5.0154340e-01],\n",
       "       [3.3101812e-02],\n",
       "       [1.9129823e-01],\n",
       "       [2.6658592e-01],\n",
       "       [5.1789507e-02],\n",
       "       [9.5188415e-01],\n",
       "       [4.5853838e-01],\n",
       "       [7.3926908e-01],\n",
       "       [5.7201070e-01],\n",
       "       [1.1485932e-02],\n",
       "       [8.8317014e-02],\n",
       "       [2.5943296e-02],\n",
       "       [8.0902614e-02],\n",
       "       [2.3565656e-02],\n",
       "       [2.4898779e-02],\n",
       "       [1.9835604e-02],\n",
       "       [7.7537831e-04],\n",
       "       [3.9615758e-02],\n",
       "       [2.5149196e-02],\n",
       "       [4.3634945e-03],\n",
       "       [3.5176491e-03]], dtype=float32)"
      ]
     },
     "execution_count": 24,
     "metadata": {},
     "output_type": "execute_result"
    }
   ],
   "source": [
    "y_pred=model_regularized.predict(x_test)\n",
    "y_pred\n"
   ]
  },
  {
   "cell_type": "code",
   "execution_count": 25,
   "id": "5a8c3a50",
   "metadata": {
    "execution": {
     "iopub.execute_input": "2025-01-22T13:17:12.353398Z",
     "iopub.status.busy": "2025-01-22T13:17:12.353016Z",
     "iopub.status.idle": "2025-01-22T13:17:12.361394Z",
     "shell.execute_reply": "2025-01-22T13:17:12.360255Z"
    },
    "papermill": {
     "duration": 0.021628,
     "end_time": "2025-01-22T13:17:12.363378",
     "exception": false,
     "start_time": "2025-01-22T13:17:12.341750",
     "status": "completed"
    },
    "scrolled": true,
    "tags": []
   },
   "outputs": [
    {
     "data": {
      "text/plain": [
       "[0,\n",
       " 0,\n",
       " 0,\n",
       " 0,\n",
       " 0,\n",
       " 0,\n",
       " 0,\n",
       " 0,\n",
       " 0,\n",
       " 0,\n",
       " 0,\n",
       " 0,\n",
       " 0,\n",
       " 0,\n",
       " 0,\n",
       " 1,\n",
       " 0,\n",
       " 0,\n",
       " 0,\n",
       " 0,\n",
       " 0,\n",
       " 0,\n",
       " 0,\n",
       " 0,\n",
       " 0,\n",
       " 0,\n",
       " 0,\n",
       " 0,\n",
       " 0,\n",
       " 0,\n",
       " 0,\n",
       " 0,\n",
       " 0,\n",
       " 0,\n",
       " 0,\n",
       " 0,\n",
       " 0,\n",
       " 0,\n",
       " 0,\n",
       " 0,\n",
       " 0,\n",
       " 0,\n",
       " 0,\n",
       " 0,\n",
       " 0,\n",
       " 0,\n",
       " 0,\n",
       " 0,\n",
       " 0,\n",
       " 0,\n",
       " 0,\n",
       " 0,\n",
       " 0,\n",
       " 0,\n",
       " 0,\n",
       " 0,\n",
       " 0,\n",
       " 0,\n",
       " 0,\n",
       " 0,\n",
       " 0,\n",
       " 0,\n",
       " 0,\n",
       " 0,\n",
       " 0,\n",
       " 0,\n",
       " 0,\n",
       " 0,\n",
       " 0,\n",
       " 0,\n",
       " 0,\n",
       " 0,\n",
       " 0,\n",
       " 0,\n",
       " 0,\n",
       " 1,\n",
       " 0,\n",
       " 0,\n",
       " 1,\n",
       " 1,\n",
       " 0,\n",
       " 0,\n",
       " 0,\n",
       " 0,\n",
       " 1,\n",
       " 0,\n",
       " 1,\n",
       " 1,\n",
       " 0,\n",
       " 0,\n",
       " 0,\n",
       " 0,\n",
       " 0,\n",
       " 0,\n",
       " 0,\n",
       " 0,\n",
       " 0,\n",
       " 0,\n",
       " 0,\n",
       " 0]"
      ]
     },
     "execution_count": 25,
     "metadata": {},
     "output_type": "execute_result"
    }
   ],
   "source": [
    "predictions=[]\n",
    "index=[]\n",
    "i=0\n",
    "for item in y_pred:\n",
    "    if item<.5:\n",
    "        predictions.append(0)\n",
    "    else:\n",
    "        predictions.append(1)\n",
    "    index.append(i)\n",
    "    i=i+1\n",
    "predictions"
   ]
  },
  {
   "cell_type": "code",
   "execution_count": 26,
   "id": "22297790",
   "metadata": {
    "execution": {
     "iopub.execute_input": "2025-01-22T13:17:12.386062Z",
     "iopub.status.busy": "2025-01-22T13:17:12.385620Z",
     "iopub.status.idle": "2025-01-22T13:17:12.403933Z",
     "shell.execute_reply": "2025-01-22T13:17:12.402606Z"
    },
    "papermill": {
     "duration": 0.031379,
     "end_time": "2025-01-22T13:17:12.405750",
     "exception": false,
     "start_time": "2025-01-22T13:17:12.374371",
     "status": "completed"
    },
    "tags": []
   },
   "outputs": [
    {
     "name": "stdout",
     "output_type": "stream",
     "text": [
      "    ID  Prediction\n",
      "0    0    0.005246\n",
      "1    1    0.011009\n",
      "2    2    0.009646\n",
      "3    3    0.017954\n",
      "4    4    0.007593\n",
      "5    5    0.022101\n",
      "6    6    0.012582\n",
      "7    7    0.000036\n",
      "8    8    0.072718\n",
      "9    9    0.025340\n",
      "10  10    0.000142\n",
      "11  11    0.011385\n",
      "12  12    0.060410\n",
      "13  13    0.007558\n",
      "14  14    0.000881\n",
      "15  15    0.504084\n",
      "16  16    0.046955\n",
      "17  17    0.005261\n",
      "18  18    0.006498\n",
      "19  19    0.000904\n"
     ]
    }
   ],
   "source": [
    "submission=pd.DataFrame({\n",
    "    \"ID\":index,\n",
    "    \"Prediction\":y_pred.flatten()\n",
    "})\n",
    "print(submission.head(20))\n",
    "submission.to_csv(\"submission.csv\",index=False)"
   ]
  }
 ],
 "metadata": {
  "kaggle": {
   "accelerator": "none",
   "dataSources": [
    {
     "databundleVersionId": 10795105,
     "sourceId": 91400,
     "sourceType": "competition"
    }
   ],
   "dockerImageVersionId": 30839,
   "isGpuEnabled": false,
   "isInternetEnabled": false,
   "language": "python",
   "sourceType": "notebook"
  },
  "kernelspec": {
   "display_name": "Python 3",
   "language": "python",
   "name": "python3"
  },
  "language_info": {
   "codemirror_mode": {
    "name": "ipython",
    "version": 3
   },
   "file_extension": ".py",
   "mimetype": "text/x-python",
   "name": "python",
   "nbconvert_exporter": "python",
   "pygments_lexer": "ipython3",
   "version": "3.10.12"
  },
  "papermill": {
   "default_parameters": {},
   "duration": 31.307807,
   "end_time": "2025-01-22T13:17:14.141138",
   "environment_variables": {},
   "exception": null,
   "input_path": "__notebook__.ipynb",
   "output_path": "__notebook__.ipynb",
   "parameters": {},
   "start_time": "2025-01-22T13:16:42.833331",
   "version": "2.6.0"
  }
 },
 "nbformat": 4,
 "nbformat_minor": 5
}
